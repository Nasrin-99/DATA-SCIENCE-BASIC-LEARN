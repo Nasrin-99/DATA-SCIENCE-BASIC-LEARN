{
 "cells": [
  {
   "cell_type": "code",
   "execution_count": 1,
   "id": "241940ee-e7f2-41dd-bc90-c56d8df2dbd0",
   "metadata": {},
   "outputs": [],
   "source": [
    "l=[1,2,3,4,5]\n",
    "#jodi ata squar korte chai ami"
   ]
  },
  {
   "cell_type": "code",
   "execution_count": 2,
   "id": "8caf2250-e4bf-4925-8061-6dccbcac5323",
   "metadata": {},
   "outputs": [
    {
     "data": {
      "text/plain": [
       "[1, 4, 9, 16, 25]"
      ]
     },
     "execution_count": 2,
     "metadata": {},
     "output_type": "execute_result"
    }
   ],
   "source": [
    "def sq(l):\n",
    "    l1=[]\n",
    "    for i in l:\n",
    "        l1.append(i**2)\n",
    "    return l1\n",
    "sq(l)"
   ]
  },
  {
   "cell_type": "code",
   "execution_count": 3,
   "id": "147344cf-2c41-4aa6-8194-74169af2ff65",
   "metadata": {},
   "outputs": [],
   "source": [
    "#NOW we do this in map() function "
   ]
  },
  {
   "cell_type": "code",
   "execution_count": 6,
   "id": "6c3528d6-a652-46ba-9dad-d4092c351bf7",
   "metadata": {},
   "outputs": [],
   "source": [
    "def sq(x):\n",
    "   return x**2"
   ]
  },
  {
   "cell_type": "code",
   "execution_count": 7,
   "id": "9b146444-e4c0-47d9-8220-cd751f6825e0",
   "metadata": {},
   "outputs": [
    {
     "data": {
      "text/plain": [
       "<map at 0x2069d8d8280>"
      ]
     },
     "execution_count": 7,
     "metadata": {},
     "output_type": "execute_result"
    }
   ],
   "source": [
    "map(sq,l)"
   ]
  },
  {
   "cell_type": "code",
   "execution_count": 9,
   "id": "7095668d-2a1e-4853-819c-9e4c4a46cfb4",
   "metadata": {},
   "outputs": [
    {
     "data": {
      "text/plain": [
       "[1, 4, 9, 16, 25]"
      ]
     },
     "execution_count": 9,
     "metadata": {},
     "output_type": "execute_result"
    }
   ],
   "source": [
    "list(map(sq,l)) #map function aa 1st aa function dite hoi and then iterable data\n",
    "# map function sudu map ar objet dai jata list a convert korte hoyeche list data type diye"
   ]
  },
  {
   "cell_type": "code",
   "execution_count": 10,
   "id": "d92cd4fd-59a7-4422-8e07-d68a59da3559",
   "metadata": {},
   "outputs": [],
   "source": [
    "#jodi choto function thale map ar vitore lamda function diye korte pari"
   ]
  },
  {
   "cell_type": "code",
   "execution_count": 11,
   "id": "d057f8a4-5cc3-4918-bc7c-40e2dd471d6e",
   "metadata": {},
   "outputs": [
    {
     "data": {
      "text/plain": [
       "[1, 4, 9, 16, 25]"
      ]
     },
     "execution_count": 11,
     "metadata": {},
     "output_type": "execute_result"
    }
   ],
   "source": [
    "list(map( lambda x: x**2 ,l))"
   ]
  },
  {
   "cell_type": "code",
   "execution_count": 12,
   "id": "443547f6-920a-426c-b5ab-d15633f6163d",
   "metadata": {},
   "outputs": [
    {
     "data": {
      "text/plain": [
       "[7, 9, 11, 13, 15]"
      ]
     },
     "execution_count": 12,
     "metadata": {},
     "output_type": "execute_result"
    }
   ],
   "source": [
    "l1=[1,2,3,4,5]\n",
    "l2=[6,7,8,9,10]\n",
    "list(map(lambda x,y: x+y,l1,l2)) #l1 the x 1st index value niche and l2 the 1st index y value niche \n",
    "#then add korche and list a store korche "
   ]
  },
  {
   "cell_type": "code",
   "execution_count": 13,
   "id": "4018bc30-bcc5-4989-9f6d-90d5214ed577",
   "metadata": {},
   "outputs": [
    {
     "data": {
      "text/plain": [
       "(7, 9, 11, 13, 15)"
      ]
     },
     "execution_count": 13,
     "metadata": {},
     "output_type": "execute_result"
    }
   ],
   "source": [
    "l1=[1,2,3,4,5]\n",
    "l2=[6,7,8,9,10]\n",
    "tuple(map(lambda x,y: x+y,l1,l2))"
   ]
  },
  {
   "cell_type": "code",
   "execution_count": 14,
   "id": "d67ec89f-068f-4d3a-8347-eb7a3e15216e",
   "metadata": {},
   "outputs": [
    {
     "data": {
      "text/plain": [
       "{7, 9, 11, 13, 15}"
      ]
     },
     "execution_count": 14,
     "metadata": {},
     "output_type": "execute_result"
    }
   ],
   "source": [
    "l1=[1,2,3,4,5]\n",
    "l2=[6,7,8,9,10]\n",
    "set(map(lambda x,y: x+y,l1,l2))"
   ]
  },
  {
   "cell_type": "code",
   "execution_count": 18,
   "id": "e3d121d0-e679-4507-80ea-5d8f7d9cc9a5",
   "metadata": {},
   "outputs": [
    {
     "data": {
      "text/plain": [
       "['N', 'A', 'S', 'R', 'I', 'N']"
      ]
     },
     "execution_count": 18,
     "metadata": {},
     "output_type": "execute_result"
    }
   ],
   "source": [
    "s='nasrin'\n",
    "list(map(lambda s:s.upper(),s))"
   ]
  },
  {
   "cell_type": "code",
   "execution_count": 19,
   "id": "8610ab61-54cd-42a8-adf2-403b4284cce8",
   "metadata": {},
   "outputs": [],
   "source": [
    "                                 # reduce"
   ]
  },
  {
   "cell_type": "code",
   "execution_count": 20,
   "id": "ce4ec905-5677-49e2-9dd8-51b3c79bddf6",
   "metadata": {},
   "outputs": [],
   "source": [
    "from functools import reduce\n"
   ]
  },
  {
   "cell_type": "code",
   "execution_count": 21,
   "id": "21c21f38-6bf7-4bdf-9e76-2cb7ba782919",
   "metadata": {},
   "outputs": [],
   "source": [
    "l=[1,2,3,4,5,6]"
   ]
  },
  {
   "cell_type": "code",
   "execution_count": 22,
   "id": "f808862e-f845-41c3-a5da-c01140138b44",
   "metadata": {},
   "outputs": [
    {
     "data": {
      "text/plain": [
       "21"
      ]
     },
     "execution_count": 22,
     "metadata": {},
     "output_type": "execute_result"
    }
   ],
   "source": [
    "reduce(lambda x,y:x+y,l) #we cannot take 3 paramiter "
   ]
  },
  {
   "cell_type": "code",
   "execution_count": 23,
   "id": "97f0bcea-f13d-4ac7-9804-9b3c05829fe5",
   "metadata": {},
   "outputs": [
    {
     "data": {
      "text/plain": [
       "1"
      ]
     },
     "execution_count": 23,
     "metadata": {},
     "output_type": "execute_result"
    }
   ],
   "source": [
    "#one exceptional case\n",
    "reduce(lambda x,y:x+y,[1])"
   ]
  },
  {
   "cell_type": "code",
   "execution_count": 24,
   "id": "cbe6e927-ef80-429d-aec9-6678627bd340",
   "metadata": {},
   "outputs": [
    {
     "data": {
      "text/plain": [
       "720"
      ]
     },
     "execution_count": 24,
     "metadata": {},
     "output_type": "execute_result"
    }
   ],
   "source": [
    "reduce(lambda x,y:x*y,l)"
   ]
  },
  {
   "cell_type": "code",
   "execution_count": 25,
   "id": "2191fc15-9abf-4814-87b7-2349a264d970",
   "metadata": {},
   "outputs": [
    {
     "data": {
      "text/plain": [
       "6"
      ]
     },
     "execution_count": 25,
     "metadata": {},
     "output_type": "execute_result"
    }
   ],
   "source": [
    "#height number of list\n",
    "reduce(lambda x,y:x if x>y else y ,l)"
   ]
  },
  {
   "cell_type": "code",
   "execution_count": 26,
   "id": "456d8b5c-e95f-4f4b-8f33-7c192550036f",
   "metadata": {},
   "outputs": [],
   "source": [
    "                                  #filter function"
   ]
  },
  {
   "cell_type": "code",
   "execution_count": 32,
   "id": "8b19938e-ffbe-4bb8-97a0-395e94688bf2",
   "metadata": {},
   "outputs": [
    {
     "data": {
      "text/plain": [
       "[2, 4, 6]"
      ]
     },
     "execution_count": 32,
     "metadata": {},
     "output_type": "execute_result"
    }
   ],
   "source": [
    "list(filter(lambda x : x % 2 == 0 ,l))"
   ]
  },
  {
   "cell_type": "code",
   "execution_count": 33,
   "id": "f7921a2f-6625-46b8-b48d-08b03f12cf29",
   "metadata": {},
   "outputs": [
    {
     "data": {
      "text/plain": [
       "[1, 3, 5]"
      ]
     },
     "execution_count": 33,
     "metadata": {},
     "output_type": "execute_result"
    }
   ],
   "source": [
    "list(filter(lambda x : x % 2 != 0 ,l))"
   ]
  },
  {
   "cell_type": "code",
   "execution_count": 35,
   "id": "586db7a9-d9d2-41c8-9ecb-48bd09dc5f11",
   "metadata": {},
   "outputs": [
    {
     "data": {
      "text/plain": [
       "[-1, -6, -3, -8]"
      ]
     },
     "execution_count": 35,
     "metadata": {},
     "output_type": "execute_result"
    }
   ],
   "source": [
    "p=[-1,5,-6,-3,-8,3,5,7,4,9]\n",
    "list(filter(lambda x : x < 0 ,p))"
   ]
  },
  {
   "cell_type": "code",
   "execution_count": 36,
   "id": "eb4dc39a-4fcf-405a-b1ff-2f10d9f84c48",
   "metadata": {},
   "outputs": [
    {
     "data": {
      "text/plain": [
       "['prashant', 'chandrima']"
      ]
     },
     "execution_count": 36,
     "metadata": {},
     "output_type": "execute_result"
    }
   ],
   "source": [
    "l=['nasrin','prashant','popy','ritu','sia','chandrima','anu']\n",
    "\n",
    "list(filter(lambda x : len(x)>6 ,l))"
   ]
  },
  {
   "cell_type": "code",
   "execution_count": null,
   "id": "74f8962d-a191-4d65-ae60-485e7f197b40",
   "metadata": {},
   "outputs": [],
   "source": []
  }
 ],
 "metadata": {
  "kernelspec": {
   "display_name": "Python 3 (ipykernel)",
   "language": "python",
   "name": "python3"
  },
  "language_info": {
   "codemirror_mode": {
    "name": "ipython",
    "version": 3
   },
   "file_extension": ".py",
   "mimetype": "text/x-python",
   "name": "python",
   "nbconvert_exporter": "python",
   "pygments_lexer": "ipython3",
   "version": "3.13.5"
  }
 },
 "nbformat": 4,
 "nbformat_minor": 5
}
