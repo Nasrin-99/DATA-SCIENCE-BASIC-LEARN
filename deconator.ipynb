{
 "cells": [
  {
   "cell_type": "code",
   "execution_count": 5,
   "id": "aaf4c34b-7f8c-47ff-b4ab-483af380602b",
   "metadata": {},
   "outputs": [],
   "source": [
    "def test():\n",
    "    print(\"this is fun test\")\n",
    "    print(\"this is body\")\n",
    "    print(3+5)\n",
    "    print(\"this is last\")"
   ]
  },
  {
   "cell_type": "code",
   "execution_count": 6,
   "id": "01af8d7e-7ff2-40fd-8023-efe8a7aa4384",
   "metadata": {},
   "outputs": [
    {
     "name": "stdout",
     "output_type": "stream",
     "text": [
      "this is fun test\n",
      "this is body\n",
      "8\n",
      "this is last\n"
     ]
    }
   ],
   "source": [
    "test()"
   ]
  },
  {
   "cell_type": "code",
   "execution_count": 2,
   "id": "45c1b636-fef9-413c-b29b-e65194c27349",
   "metadata": {},
   "outputs": [],
   "source": [
    "def deco(func):\n",
    "    def inner_deco():\n",
    "         print(\"this is fun  1st test\")\n",
    "         func()\n",
    "         print(\"this is last fun test\")\n",
    "    return inner_deco"
   ]
  },
  {
   "cell_type": "code",
   "execution_count": 5,
   "id": "a54a1e47-ea46-4f79-ac67-082e301a15d7",
   "metadata": {},
   "outputs": [],
   "source": [
    "@deco\n",
    "def test1():\n",
    "    print(6+7)"
   ]
  },
  {
   "cell_type": "code",
   "execution_count": 6,
   "id": "529c1362-a3f1-430c-b8e4-8da8504b7c00",
   "metadata": {},
   "outputs": [
    {
     "name": "stdout",
     "output_type": "stream",
     "text": [
      "this is fun  1st test\n",
      "13\n",
      "this is last fun test\n"
     ]
    }
   ],
   "source": [
    "test1()"
   ]
  },
  {
   "cell_type": "code",
   "execution_count": 7,
   "id": "0bd00eca-cb35-4e0f-ad29-dcf67fededca",
   "metadata": {},
   "outputs": [],
   "source": [
    "import time\n",
    "                                     #decorate kore raklam\n",
    "def time_test(func):\n",
    "    def time_test_inner():\n",
    "        start=time.time()\n",
    "        func()\n",
    "        end = time.time()\n",
    "        print(end - start)\n",
    "    return time_test_inner\n",
    "        \n",
    "         "
   ]
  },
  {
   "cell_type": "code",
   "execution_count": 9,
   "id": "c6c2a8a7-a2c0-479d-afb6-dd31b86d5d14",
   "metadata": {},
   "outputs": [],
   "source": [
    "def time2(): #jokon decorate kee lagaini \n",
    "    print(34+45)"
   ]
  },
  {
   "cell_type": "code",
   "execution_count": 11,
   "id": "4224ed04-5d76-404f-a1c4-0da507941e11",
   "metadata": {},
   "outputs": [
    {
     "name": "stdout",
     "output_type": "stream",
     "text": [
      "79\n"
     ]
    }
   ],
   "source": [
    "time2()"
   ]
  },
  {
   "cell_type": "code",
   "execution_count": 13,
   "id": "c076fb07-8a00-4b94-a321-fcd57735db11",
   "metadata": {},
   "outputs": [],
   "source": [
    "@time_test\n",
    "def time2(): #jokon decorate ke lagiye chi\n",
    "    print(34+45)"
   ]
  },
  {
   "cell_type": "code",
   "execution_count": 14,
   "id": "e4630afc-939b-447d-9674-1788c5c62144",
   "metadata": {},
   "outputs": [
    {
     "name": "stdout",
     "output_type": "stream",
     "text": [
      "79\n",
      "0.0003345012664794922\n"
     ]
    }
   ],
   "source": [
    "time2()"
   ]
  },
  {
   "cell_type": "code",
   "execution_count": 16,
   "id": "26ee035e-640d-4a65-bf64-1bd6a9611ce7",
   "metadata": {},
   "outputs": [],
   "source": [
    "@time_test\n",
    "def test3():\n",
    "    for i in range(45434554):\n",
    "        pass"
   ]
  },
  {
   "cell_type": "code",
   "execution_count": 17,
   "id": "42cbd175-de1f-417d-8974-49aaa8a80f06",
   "metadata": {},
   "outputs": [
    {
     "name": "stdout",
     "output_type": "stream",
     "text": [
      "3.0941314697265625\n"
     ]
    }
   ],
   "source": [
    "test3()"
   ]
  },
  {
   "cell_type": "code",
   "execution_count": null,
   "id": "1334f6f5-2f12-4a65-b54a-b613854960fe",
   "metadata": {},
   "outputs": [],
   "source": []
  }
 ],
 "metadata": {
  "kernelspec": {
   "display_name": "Python 3 (ipykernel)",
   "language": "python",
   "name": "python3"
  },
  "language_info": {
   "codemirror_mode": {
    "name": "ipython",
    "version": 3
   },
   "file_extension": ".py",
   "mimetype": "text/x-python",
   "name": "python",
   "nbconvert_exporter": "python",
   "pygments_lexer": "ipython3",
   "version": "3.13.5"
  }
 },
 "nbformat": 4,
 "nbformat_minor": 5
}
