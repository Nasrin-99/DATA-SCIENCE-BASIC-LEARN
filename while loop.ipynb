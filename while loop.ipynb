{
 "cells": [
  {
   "cell_type": "code",
   "execution_count": 2,
   "id": "fa86ec75-32cf-45d6-ae8e-68c321fca88b",
   "metadata": {},
   "outputs": [
    {
     "name": "stdout",
     "output_type": "stream",
     "text": [
      "1\n",
      "2\n",
      "3\n",
      "4\n",
      "5\n",
      "6\n",
      "7\n",
      "8\n",
      "9\n",
      "10\n"
     ]
    }
   ],
   "source": [
    "a=1\n",
    "while a<=10:\n",
    "    print(a)\n",
    "    a=a+1"
   ]
  },
  {
   "cell_type": "markdown",
   "id": "ba0f398e-79a9-46d6-94f2-504d93d65937",
   "metadata": {},
   "source": [
    "sum of the number till some point"
   ]
  },
  {
   "cell_type": "code",
   "execution_count": 6,
   "id": "fd7b1c3e-97ac-4395-ac78-69cfcedc8016",
   "metadata": {},
   "outputs": [
    {
     "name": "stdin",
     "output_type": "stream",
     "text": [
      "enter yout limit 15\n"
     ]
    },
    {
     "name": "stdout",
     "output_type": "stream",
     "text": [
      "120\n"
     ]
    }
   ],
   "source": [
    "n=int(input('enter yout limit'))\n",
    "a=1\n",
    "s=0\n",
    "while a<=n:\n",
    "     s=s+a\n",
    "     a=a+1\n",
    "print(s)"
   ]
  },
  {
   "cell_type": "code",
   "execution_count": 7,
   "id": "0b5f02e7-dc95-441d-900e-a41c09e8e542",
   "metadata": {},
   "outputs": [
    {
     "name": "stdin",
     "output_type": "stream",
     "text": [
      "enter yout limit 3\n"
     ]
    },
    {
     "name": "stdout",
     "output_type": "stream",
     "text": [
      "6\n"
     ]
    }
   ],
   "source": [
    "#factorial of number\n",
    "n=int(input('enter yout limit'))\n",
    "a=1\n",
    "s=1\n",
    "while a<=n:\n",
    "     s=s*a\n",
    "     a=a+1\n",
    "print(s)"
   ]
  },
  {
   "cell_type": "code",
   "execution_count": 9,
   "id": "a6a06018-fb73-437f-b1c4-e09c777fd602",
   "metadata": {},
   "outputs": [
    {
     "name": "stdin",
     "output_type": "stream",
     "text": [
      "enter yout limit 16\n"
     ]
    },
    {
     "name": "stdout",
     "output_type": "stream",
     "text": [
      "0 1 1 2 3 5 8 13 21 34 55 89 144 233 377 610 "
     ]
    }
   ],
   "source": [
    "# fibonacci series!\n",
    "#0 1 1 2 3 5 8 13 21 34 55 89 144 233 377 610 \n",
    "num1,num2 = 0 , 1 \n",
    "counter=0\n",
    "n=int(input('enter yout limit'))\n",
    "while counter < n:\n",
    "    print(num1,end=\" \")\n",
    "    c=num1+num2\n",
    "    num1=num2\n",
    "    num2=c\n",
    "    counter=counter+1\n",
    "  "
   ]
  },
  {
   "cell_type": "code",
   "execution_count": 11,
   "id": "242a0b17-f994-4b34-b643-26e86b7e13f5",
   "metadata": {},
   "outputs": [
    {
     "name": "stdin",
     "output_type": "stream",
     "text": [
      "enter yout limit 10\n"
     ]
    },
    {
     "name": "stdout",
     "output_type": "stream",
     "text": [
      "0 1 1 2 3 5 8 13 21 34 "
     ]
    }
   ],
   "source": [
    "#for loop se\n",
    "# fibonacci series!\n",
    "#0 1 1 2 3 5 8 13 21 34 55 89 144 233 377 610 \n",
    "num1,num2 = 0 , 1 \n",
    "n=int(input('enter yout limit'))\n",
    "for i in range(n):\n",
    "    print(num1,end=\" \")\n",
    "    c=num1+num2\n",
    "    num1=num2\n",
    "    num2=c\n",
    "\n",
    "  "
   ]
  },
  {
   "cell_type": "code",
   "execution_count": 12,
   "id": "c3ee48fb-74a7-4a7e-8527-34e7aafec69e",
   "metadata": {},
   "outputs": [
    {
     "data": {
      "text/plain": [
       "'nirsaN'"
      ]
     },
     "execution_count": 12,
     "metadata": {},
     "output_type": "execute_result"
    }
   ],
   "source": [
    "s='Nasrin'\n",
    "s[::-1]"
   ]
  },
  {
   "cell_type": "code",
   "execution_count": 14,
   "id": "d11ee027-4d0c-4a04-b354-7db91c3c5c07",
   "metadata": {},
   "outputs": [
    {
     "name": "stdin",
     "output_type": "stream",
     "text": [
      "enter your word you want to reverse prashant\n"
     ]
    },
    {
     "name": "stdout",
     "output_type": "stream",
     "text": [
      "tnahsarp\n"
     ]
    }
   ],
   "source": [
    "word= input(\"enter your word you want to reverse\")\n",
    "reverse=\"\"\n",
    "length=len(word)\n",
    "while length>0:\n",
    "    reverse = reverse+word[length-1]\n",
    "    length=length-1\n",
    "print(reverse)\n",
    "    "
   ]
  },
  {
   "cell_type": "code",
   "execution_count": 16,
   "id": "6e37ca22-2c15-4f90-a02a-10f036544827",
   "metadata": {},
   "outputs": [
    {
     "name": "stdin",
     "output_type": "stream",
     "text": [
      "enter yout table 2\n"
     ]
    },
    {
     "name": "stdout",
     "output_type": "stream",
     "text": [
      "1 * 2 = 2\n",
      "2 * 2 = 4\n",
      "3 * 2 = 6\n",
      "4 * 2 = 8\n",
      "5 * 2 = 10\n",
      "6 * 2 = 12\n",
      "7 * 2 = 14\n",
      "8 * 2 = 16\n",
      "9 * 2 = 18\n",
      "10 * 2 = 20\n"
     ]
    }
   ],
   "source": [
    "#table of numbers\n",
    "n=int(input('enter yout table'))\n",
    "p=1\n",
    "while p<=10:\n",
    "    print( p ,\"*\", n,\"=\",p*n)\n",
    "    p=p+1"
   ]
  },
  {
   "cell_type": "code",
   "execution_count": null,
   "id": "43bbb76f-5c03-4c28-bb79-8810e9715991",
   "metadata": {},
   "outputs": [],
   "source": [
    "# used else with while\n",
    "i=1\n",
    "while i<5:\n",
    "    print(i)\n",
    "    i=i+1\n",
    "else:\n",
    "    print(\""
   ]
  }
 ],
 "metadata": {
  "kernelspec": {
   "display_name": "Python 3 (ipykernel)",
   "language": "python",
   "name": "python3"
  },
  "language_info": {
   "codemirror_mode": {
    "name": "ipython",
    "version": 3
   },
   "file_extension": ".py",
   "mimetype": "text/x-python",
   "name": "python",
   "nbconvert_exporter": "python",
   "pygments_lexer": "ipython3",
   "version": "3.13.5"
  }
 },
 "nbformat": 4,
 "nbformat_minor": 5
}
