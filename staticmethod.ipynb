{
 "cells": [
  {
   "cell_type": "code",
   "execution_count": 1,
   "id": "7827d871-8f3f-4dd5-b391-bdcd9d36ca62",
   "metadata": {},
   "outputs": [
    {
     "name": "stdout",
     "output_type": "stream",
     "text": [
      "nAS0 45\n"
     ]
    }
   ],
   "source": [
    "class pwskill:\n",
    "    def student_details(self,name ,id):\n",
    "        print(name,id)\n",
    "pw=pwskill()\n",
    "pw.student_details('nAS0',45)"
   ]
  },
  {
   "cell_type": "code",
   "execution_count": 2,
   "id": "bafa95c2-31b3-48f1-be27-4bc6b8c5da0a",
   "metadata": {},
   "outputs": [],
   "source": [
    " #amon akti function jeta bin object baniye call kora jai"
   ]
  },
  {
   "cell_type": "code",
   "execution_count": 4,
   "id": "74c79fb3-c717-4f0e-8ac5-9b87c85c7b5b",
   "metadata": {},
   "outputs": [
    {
     "name": "stdout",
     "output_type": "stream",
     "text": [
      "['nas', 'rin ']\n"
     ]
    }
   ],
   "source": [
    "class pwskill1:\n",
    "    def student_details(self,name ,id):\n",
    "        print(name,id)\n",
    "    @staticmethod\n",
    "    def mentor(list_mentor):\n",
    "        print(list_mentor)\n",
    "        \n",
    "\n",
    "pwskill1.mentor(['nas','rin '])"
   ]
  },
  {
   "cell_type": "code",
   "execution_count": 7,
   "id": "66c5732e-95f6-4f38-a88d-463dc54802eb",
   "metadata": {},
   "outputs": [
    {
     "name": "stdout",
     "output_type": "stream",
     "text": [
      "['nasrin', 'piya']\n",
      "asd@123hgmail.com\n"
     ]
    }
   ],
   "source": [
    "#static method call inside the static methon\n",
    "class pwskill2:\n",
    "    def student_details(self,name ,id):\n",
    "        print(name,id)\n",
    "    @staticmethod\n",
    "    def mentor(list_mentor):\n",
    "        print(list_mentor)\n",
    "\n",
    "    @staticmethod\n",
    "    def mentor_mail(mail_id):\n",
    "        pwskill2.mentor(['nasrin','piya'])\n",
    "        print(mail_id)\n",
    "\n",
    "pwskill2.mentor_mail('asd@123hgmail.com')"
   ]
  },
  {
   "cell_type": "code",
   "execution_count": 8,
   "id": "3a6a4c72-a192-4275-8fb3-e2faacb43ab7",
   "metadata": {},
   "outputs": [
    {
     "name": "stdout",
     "output_type": "stream",
     "text": [
      "['nasrin', 'piya']\n",
      "asd@123gmail.com\n"
     ]
    }
   ],
   "source": [
    "#static method call inside the classmethon\n",
    "class pwskill2:\n",
    "    def student_details(self,name ,id):\n",
    "        print(name,id)\n",
    "    @staticmethod\n",
    "    def mentor(list_mentor):\n",
    "        print(list_mentor)\n",
    "\n",
    "    @staticmethod\n",
    "    def mentor_mail(mail_id):\n",
    "        pwskill2.mentor(['nasrin','piya'])\n",
    "        print(mail_id)\n",
    "\n",
    "    @classmethod\n",
    "    def class_name(cls):\n",
    "        cls.mentor_mail('asd@123gmail.com')\n",
    "\n",
    "pwskill2.class_name()"
   ]
  },
  {
   "cell_type": "code",
   "execution_count": 11,
   "id": "08af0941-2287-4aee-8b14-fd3acee8cc3d",
   "metadata": {},
   "outputs": [],
   "source": [
    "#static method call inside the instance methon\n",
    "class pwskill3:\n",
    "    def student_details(self,name ,id):\n",
    "        print(name,id)\n",
    "    @staticmethod\n",
    "    def mentor(list_mentor):\n",
    "        print(list_mentor)\n",
    "\n",
    "    @staticmethod\n",
    "    def mentor_mail(mail_id):\n",
    "        pwskill3.mentor(['nasrin','piya'])\n",
    "        print(mail_id)\n",
    "\n",
    "    @classmethod\n",
    "    def class_name(cls):\n",
    "        cls.mentor_mail('asd@123gmail.com')\n",
    "\n",
    "    def mentor_man_instans(self,mom_list):\n",
    "        print(mom_list)\n",
    "        self.mentor(['dfd','gfg'])\n"
   ]
  },
  {
   "cell_type": "code",
   "execution_count": 12,
   "id": "1a1c4c0f-b16a-495a-ae06-3f0867b7c85b",
   "metadata": {},
   "outputs": [],
   "source": [
    "pw = pwskill3()"
   ]
  },
  {
   "cell_type": "code",
   "execution_count": 14,
   "id": "2a0e2478-53a8-4a31-b00c-4c5f78dd11c6",
   "metadata": {},
   "outputs": [
    {
     "name": "stdout",
     "output_type": "stream",
     "text": [
      "['ftr', 'few']\n",
      "['dfd', 'gfg']\n"
     ]
    }
   ],
   "source": [
    "pw.mentor_man_instans(['ftr','few'])"
   ]
  },
  {
   "cell_type": "code",
   "execution_count": null,
   "id": "f1a5d346-3c66-44aa-80aa-0febd32d0c5d",
   "metadata": {},
   "outputs": [],
   "source": []
  }
 ],
 "metadata": {
  "kernelspec": {
   "display_name": "Python 3 (ipykernel)",
   "language": "python",
   "name": "python3"
  },
  "language_info": {
   "codemirror_mode": {
    "name": "ipython",
    "version": 3
   },
   "file_extension": ".py",
   "mimetype": "text/x-python",
   "name": "python",
   "nbconvert_exporter": "python",
   "pygments_lexer": "ipython3",
   "version": "3.13.5"
  }
 },
 "nbformat": 4,
 "nbformat_minor": 5
}
