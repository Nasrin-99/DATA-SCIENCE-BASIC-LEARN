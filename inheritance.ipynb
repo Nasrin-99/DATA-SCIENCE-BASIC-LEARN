{
 "cells": [
  {
   "cell_type": "code",
   "execution_count": 3,
   "id": "971f4151-1c36-4aa3-9d8c-2fd05558be0e",
   "metadata": {},
   "outputs": [
    {
     "data": {
      "text/plain": [
       "'this is math parent'"
      ]
     },
     "execution_count": 3,
     "metadata": {},
     "output_type": "execute_result"
    }
   ],
   "source": [
    "class test:\n",
    "    def test_math(self):\n",
    "        return \"this is math parent\"\n",
    "class child_test(test):\n",
    "    pass\n",
    "child_test_obj = child_test()\n",
    "child_test_obj.test_math()"
   ]
  },
  {
   "cell_type": "code",
   "execution_count": 7,
   "id": "bca702de-b6c1-4158-8ed0-f0189e0598d9",
   "metadata": {},
   "outputs": [
    {
     "data": {
      "text/plain": [
       "'this is class1'"
      ]
     },
     "execution_count": 7,
     "metadata": {},
     "output_type": "execute_result"
    }
   ],
   "source": [
    "                                              #multilevel inheritance\n",
    "class class1:\n",
    "    def test_math1(self):\n",
    "        return \"this is class1\"\n",
    "class class2(class1):\n",
    "    def test_math2(self):\n",
    "        return  \"this is class2\"\n",
    "class class3(class2):\n",
    "    pass\n",
    "obj_class3 = class3()\n",
    "obj_class3.test_math1()"
   ]
  },
  {
   "cell_type": "code",
   "execution_count": 9,
   "id": "6d862edb-247c-4fc6-a40e-9e8d86df1307",
   "metadata": {},
   "outputs": [
    {
     "data": {
      "text/plain": [
       "'this is class1'"
      ]
     },
     "execution_count": 9,
     "metadata": {},
     "output_type": "execute_result"
    }
   ],
   "source": [
    "                                                  #multi level inheritanc\n",
    "class class1:\n",
    "    def test_math1(self):\n",
    "        return \"this is class1\"\n",
    "class class2:\n",
    "    def test_math2(self):\n",
    "        return  \"this is class2\"\n",
    "class class3(class1,class2):\n",
    "    pass\n",
    "obj_class3 = class3()\n",
    "obj_class3.test_math1()"
   ]
  },
  {
   "cell_type": "code",
   "execution_count": null,
   "id": "9fd3315d-c402-4a85-9628-48404fc318af",
   "metadata": {},
   "outputs": [],
   "source": []
  }
 ],
 "metadata": {
  "kernelspec": {
   "display_name": "Python 3 (ipykernel)",
   "language": "python",
   "name": "python3"
  },
  "language_info": {
   "codemirror_mode": {
    "name": "ipython",
    "version": 3
   },
   "file_extension": ".py",
   "mimetype": "text/x-python",
   "name": "python",
   "nbconvert_exporter": "python",
   "pygments_lexer": "ipython3",
   "version": "3.13.5"
  }
 },
 "nbformat": 4,
 "nbformat_minor": 5
}
