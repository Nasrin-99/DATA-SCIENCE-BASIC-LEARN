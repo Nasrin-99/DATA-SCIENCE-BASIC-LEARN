{
 "cells": [
  {
   "cell_type": "code",
   "execution_count": 1,
   "id": "86e14dae-94aa-4007-830e-d2c2ce804e46",
   "metadata": {},
   "outputs": [],
   "source": [
    "class pwskill:\n",
    "    def __init__(self,name ,id):\n",
    "        self.name=name\n",
    "        self.id=id\n",
    "\n",
    "    def student_details(self):\n",
    "        print(self.name,self.id)"
   ]
  },
  {
   "cell_type": "code",
   "execution_count": 2,
   "id": "cfe631a5-42c0-40df-add6-8ff79f7666cf",
   "metadata": {},
   "outputs": [],
   "source": [
    "pw = pwskill(\"nasrin\",23)"
   ]
  },
  {
   "cell_type": "code",
   "execution_count": 3,
   "id": "dac09419-0788-4d8a-8288-b4c60128e4cd",
   "metadata": {},
   "outputs": [
    {
     "data": {
      "text/plain": [
       "23"
      ]
     },
     "execution_count": 3,
     "metadata": {},
     "output_type": "execute_result"
    }
   ],
   "source": [
    "pw.id"
   ]
  },
  {
   "cell_type": "code",
   "execution_count": 4,
   "id": "1c7d40c1-23fd-4b2a-9eeb-ee516dac7645",
   "metadata": {},
   "outputs": [
    {
     "data": {
      "text/plain": [
       "'nasrin'"
      ]
     },
     "execution_count": 4,
     "metadata": {},
     "output_type": "execute_result"
    }
   ],
   "source": [
    "pw.name"
   ]
  },
  {
   "cell_type": "code",
   "execution_count": 6,
   "id": "0df668a7-ee91-4298-bd3d-0bf09846df6a",
   "metadata": {},
   "outputs": [
    {
     "name": "stdout",
     "output_type": "stream",
     "text": [
      "nasrin 23\n"
     ]
    }
   ],
   "source": [
    "pw.student_details()"
   ]
  },
  {
   "cell_type": "code",
   "execution_count": 7,
   "id": "a530dacb-5d41-4a16-b408-9b9570709b54",
   "metadata": {},
   "outputs": [],
   "source": [
    "class pwskill1:\n",
    "    def __init__(self,name ,id):\n",
    "        self.name=name\n",
    "        self.id=id\n",
    "    @classmethod\n",
    "    def details(cls,name,id):\n",
    "        return cls(name,id)\n",
    "\n",
    "        \n",
    "    def student_details(self):\n",
    "        print(self.name,self.id)"
   ]
  },
  {
   "cell_type": "code",
   "execution_count": 9,
   "id": "f1fc7d14-87bd-4838-8951-025dcda4d046",
   "metadata": {},
   "outputs": [],
   "source": [
    "pw1=pwskill1.details(\"prashant\",24)  #without creating object"
   ]
  },
  {
   "cell_type": "code",
   "execution_count": 10,
   "id": "bd3ebaa0-7944-47be-b8e9-efd7732962e6",
   "metadata": {},
   "outputs": [
    {
     "name": "stdout",
     "output_type": "stream",
     "text": [
      "prashant 24\n"
     ]
    }
   ],
   "source": [
    "pw1.student_details()"
   ]
  },
  {
   "cell_type": "code",
   "execution_count": 11,
   "id": "690b06f4-31fe-4ad4-980a-1012cd9a6927",
   "metadata": {},
   "outputs": [
    {
     "data": {
      "text/plain": [
       "'prashant'"
      ]
     },
     "execution_count": 11,
     "metadata": {},
     "output_type": "execute_result"
    }
   ],
   "source": [
    "pw1.name"
   ]
  },
  {
   "cell_type": "code",
   "execution_count": 19,
   "id": "184f123a-548d-4547-98c5-8b026025446a",
   "metadata": {},
   "outputs": [],
   "source": [
    "class pwskill2:\n",
    "    mobile_num= 987657665\n",
    "    \n",
    "    def __init__(self,name ,id):\n",
    "        self.name=name\n",
    "        self.id=id\n",
    "\n",
    "    @classmethod\n",
    "    def change_num(cls,mobile):\n",
    "        pwskill2.mobile_num= mobile\n",
    "\n",
    "        \n",
    "    @classmethod\n",
    "    def details(cls,name,id):\n",
    "        return cls(name,id)\n",
    "\n",
    "        \n",
    "    def student_details(self):\n",
    "        print(self.name,self.id,pwskill2.mobile_num)"
   ]
  },
  {
   "cell_type": "code",
   "execution_count": 25,
   "id": "6121705b-7256-4e16-8f02-f7942ed5e40d",
   "metadata": {},
   "outputs": [],
   "source": [
    "#student details me vii\n",
    "#object used kora\n",
    "pw_obj= pwskill2('ngn',34)"
   ]
  },
  {
   "cell_type": "code",
   "execution_count": 26,
   "id": "655d99c1-003d-479a-9aa5-64272b95b18e",
   "metadata": {},
   "outputs": [
    {
     "name": "stdout",
     "output_type": "stream",
     "text": [
      "ngn 34 987657665\n"
     ]
    }
   ],
   "source": [
    "pw_obj.student_details()"
   ]
  },
  {
   "cell_type": "code",
   "execution_count": 17,
   "id": "d130289a-291a-4dad-9de4-5e0d8e486239",
   "metadata": {},
   "outputs": [],
   "source": [
    "pwskill2.change_num(453245232)"
   ]
  },
  {
   "cell_type": "code",
   "execution_count": 18,
   "id": "af745c51-fc2b-4ef3-a1ee-227b98a38780",
   "metadata": {},
   "outputs": [
    {
     "data": {
      "text/plain": [
       "453245232"
      ]
     },
     "execution_count": 18,
     "metadata": {},
     "output_type": "execute_result"
    }
   ],
   "source": [
    "pwskill2.mobile_num"
   ]
  },
  {
   "cell_type": "code",
   "execution_count": 27,
   "id": "07589455-2151-4639-b12e-3242eea8a487",
   "metadata": {},
   "outputs": [],
   "source": [
    "#class method through\n",
    "pw= pwskill2.details('gog',67)"
   ]
  },
  {
   "cell_type": "code",
   "execution_count": 28,
   "id": "d2f249bb-7466-4542-970b-79b773a1dc82",
   "metadata": {},
   "outputs": [
    {
     "name": "stdout",
     "output_type": "stream",
     "text": [
      "gog 67 987657665\n"
     ]
    }
   ],
   "source": [
    "pw.student_details()"
   ]
  },
  {
   "cell_type": "code",
   "execution_count": 29,
   "id": "8a5c6a57-49ca-42f5-81b3-98378c1df472",
   "metadata": {},
   "outputs": [],
   "source": [
    "class pwskill3:\n",
    "    mobile_num= 987657665\n",
    "    \n",
    "    def __init__(self,name ,id):\n",
    "        self.name=name\n",
    "        self.id=id\n",
    "\n",
    "    @classmethod\n",
    "    def change_num(cls,mobile):\n",
    "        pwskill2.mobile_num= mobile\n",
    "\n",
    "        \n",
    "    @classmethod\n",
    "    def details(cls,name,id):\n",
    "        return cls(name,id)\n",
    "\n",
    "        \n",
    "    def student_details(self):\n",
    "        print(self.name,self.id,pwskill2.mobile_num)"
   ]
  },
  {
   "cell_type": "code",
   "execution_count": 30,
   "id": "1b75837c-cf71-439f-aacb-e224178761c4",
   "metadata": {},
   "outputs": [],
   "source": [
    "#external method\n",
    "#outsider method kaise involb korbo\n",
    "def course_details(cls,course_name):\n",
    "    print(\"name is\",course_name)"
   ]
  },
  {
   "cell_type": "code",
   "execution_count": 31,
   "id": "27793d13-549e-407d-b42e-e39eaa40690d",
   "metadata": {},
   "outputs": [],
   "source": [
    "# aii line ar jonno pw3 te add hoye galo course details function\n",
    "pwskill3.course_details = classmethod(course_details)"
   ]
  },
  {
   "cell_type": "code",
   "execution_count": 32,
   "id": "2dc4c3d7-de47-4dee-9067-aacd5d65c19b",
   "metadata": {},
   "outputs": [
    {
     "name": "stdout",
     "output_type": "stream",
     "text": [
      "name is data science\n"
     ]
    }
   ],
   "source": [
    "pwskill3.course_details(\"data science\")"
   ]
  },
  {
   "cell_type": "code",
   "execution_count": 33,
   "id": "96297823-8f95-4cb2-8727-fba89fdc7dd9",
   "metadata": {},
   "outputs": [],
   "source": [
    "def mentor(cls,list_of_mentor):\n",
    "    print(list_of_mentor)"
   ]
  },
  {
   "cell_type": "code",
   "execution_count": 34,
   "id": "0ff91f66-b0a0-4f5a-bb6d-9be20bdb9ae4",
   "metadata": {},
   "outputs": [],
   "source": [
    "pwskill3.mentor = classmethod(mentor)"
   ]
  },
  {
   "cell_type": "code",
   "execution_count": 36,
   "id": "b11a5c86-ce15-4b06-8695-3c2e7511c3c3",
   "metadata": {},
   "outputs": [
    {
     "name": "stdout",
     "output_type": "stream",
     "text": [
      "['no', 'jh']\n"
     ]
    }
   ],
   "source": [
    "pwskill3.mentor(['no','jh'])"
   ]
  },
  {
   "cell_type": "code",
   "execution_count": 38,
   "id": "0823fc88-39da-4731-b2e5-27d9e0bbf924",
   "metadata": {},
   "outputs": [],
   "source": [
    "class pwskill4:\n",
    "    mobile_num= 987657665\n",
    "    \n",
    "    def __init__(self,name ,id):\n",
    "        self.name=name\n",
    "        self.id=id\n",
    "\n",
    "    @classmethod\n",
    "    def change_num(cls,mobile):\n",
    "        pwskill2.mobile_num= mobile\n",
    "\n",
    "        \n",
    "    @classmethod\n",
    "    def details(cls,name,id):\n",
    "        return cls(name,id)\n",
    "\n",
    "        \n",
    "    def student_details(self):\n",
    "        print(self.name,self.id,pwskill2.mobile_num)"
   ]
  },
  {
   "cell_type": "code",
   "execution_count": 39,
   "id": "f8d34688-7a7c-481c-b64b-b747ec8ff070",
   "metadata": {},
   "outputs": [],
   "source": [
    "del pwskill4.details #for delet "
   ]
  },
  {
   "cell_type": "code",
   "execution_count": 41,
   "id": "00f1db0e-43dd-42a9-88e7-85f039299cb8",
   "metadata": {},
   "outputs": [],
   "source": [
    "#other way to delet\n",
    "delattr(pwskill4, \"change_num\")"
   ]
  },
  {
   "cell_type": "code",
   "execution_count": null,
   "id": "321dfd6b-f549-49e8-8a81-17aa2a536410",
   "metadata": {},
   "outputs": [],
   "source": [
    "pwskill4."
   ]
  }
 ],
 "metadata": {
  "kernelspec": {
   "display_name": "Python 3 (ipykernel)",
   "language": "python",
   "name": "python3"
  },
  "language_info": {
   "codemirror_mode": {
    "name": "ipython",
    "version": 3
   },
   "file_extension": ".py",
   "mimetype": "text/x-python",
   "name": "python",
   "nbconvert_exporter": "python",
   "pygments_lexer": "ipython3",
   "version": "3.13.5"
  }
 },
 "nbformat": 4,
 "nbformat_minor": 5
}
