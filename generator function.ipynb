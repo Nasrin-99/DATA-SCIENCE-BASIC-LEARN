{
 "cells": [
  {
   "cell_type": "code",
   "execution_count": 3,
   "id": "b3394e23-a283-4823-a9fa-bdb335934c37",
   "metadata": {},
   "outputs": [
    {
     "name": "stdout",
     "output_type": "stream",
     "text": [
      "0\n",
      "1\n",
      "1\n",
      "2\n",
      "3\n",
      "5\n",
      "8\n",
      "13\n",
      "21\n",
      "34\n"
     ]
    }
   ],
   "source": [
    "#generotor function \n",
    "#test fibo num\n",
    "def test_fib(n):\n",
    "    a,b=0,1\n",
    "    for i in range(n):\n",
    "        yield a\n",
    "        a,b = b,a+b\n",
    "for i in test_fib(10):\n",
    "    print(i)"
   ]
  },
  {
   "cell_type": "code",
   "execution_count": 4,
   "id": "1fd8afce-88ff-47e4-a22b-728bdd8166d4",
   "metadata": {},
   "outputs": [],
   "source": [
    "s='nas'"
   ]
  },
  {
   "cell_type": "markdown",
   "id": "58ec0ee7-ff06-4a97-ba7d-e853d15b0937",
   "metadata": {},
   "source": [
    "#internal work of for  "
   ]
  },
  {
   "cell_type": "code",
   "execution_count": 6,
   "id": "fb8a8ab0-471e-42c4-b2b0-10baa7f9e0b3",
   "metadata": {},
   "outputs": [
    {
     "name": "stdout",
     "output_type": "stream",
     "text": [
      "n\n",
      "a\n",
      "s\n"
     ]
    }
   ],
   "source": [
    "for i in s:\n",
    "    print(i)"
   ]
  },
  {
   "cell_type": "code",
   "execution_count": 7,
   "id": "5bc29f31-5554-4ac3-8f21-a20d4c095bdf",
   "metadata": {},
   "outputs": [
    {
     "ename": "TypeError",
     "evalue": "'str' object is not an iterator",
     "output_type": "error",
     "traceback": [
      "\u001b[31m---------------------------------------------------------------------------\u001b[39m",
      "\u001b[31mTypeError\u001b[39m                                 Traceback (most recent call last)",
      "\u001b[36mCell\u001b[39m\u001b[36m \u001b[39m\u001b[32mIn[7]\u001b[39m\u001b[32m, line 1\u001b[39m\n\u001b[32m----> \u001b[39m\u001b[32m1\u001b[39m \u001b[38;5;28;43mnext\u001b[39;49m\u001b[43m(\u001b[49m\u001b[43ms\u001b[49m\u001b[43m)\u001b[49m\n",
      "\u001b[31mTypeError\u001b[39m: 'str' object is not an iterator"
     ]
    }
   ],
   "source": [
    "next(s)\n"
   ]
  },
  {
   "cell_type": "code",
   "execution_count": 8,
   "id": "81aa0832-6e4e-463d-a7df-8974af3e0134",
   "metadata": {},
   "outputs": [],
   "source": [
    "#str function is not iterator but iterable so we iterable it\n",
    "s1= iter(s) #iter do convert iterator of iterable function\n"
   ]
  },
  {
   "cell_type": "code",
   "execution_count": 9,
   "id": "feabe96b-2aca-44b3-ad60-52aed37b6ab5",
   "metadata": {},
   "outputs": [],
   "source": [
    "#now using next() function we iterator it"
   ]
  },
  {
   "cell_type": "code",
   "execution_count": 10,
   "id": "b0566d12-56db-4cb6-be8b-3f5cdf0056e3",
   "metadata": {},
   "outputs": [
    {
     "data": {
      "text/plain": [
       "'n'"
      ]
     },
     "execution_count": 10,
     "metadata": {},
     "output_type": "execute_result"
    }
   ],
   "source": [
    "next(s1)"
   ]
  },
  {
   "cell_type": "code",
   "execution_count": 11,
   "id": "7d6b1c8a-081e-4506-89ca-d82cb13a1645",
   "metadata": {},
   "outputs": [
    {
     "data": {
      "text/plain": [
       "'a'"
      ]
     },
     "execution_count": 11,
     "metadata": {},
     "output_type": "execute_result"
    }
   ],
   "source": [
    "next(s1)"
   ]
  },
  {
   "cell_type": "code",
   "execution_count": 12,
   "id": "28276024-3b89-46e6-9e1e-4efafe4aa534",
   "metadata": {},
   "outputs": [
    {
     "data": {
      "text/plain": [
       "'s'"
      ]
     },
     "execution_count": 12,
     "metadata": {},
     "output_type": "execute_result"
    }
   ],
   "source": [
    "next(s1)"
   ]
  },
  {
   "cell_type": "code",
   "execution_count": 13,
   "id": "89561335-c9fd-4a1a-aec7-40d6eeddf3a1",
   "metadata": {},
   "outputs": [
    {
     "ename": "StopIteration",
     "evalue": "",
     "output_type": "error",
     "traceback": [
      "\u001b[31m---------------------------------------------------------------------------\u001b[39m",
      "\u001b[31mStopIteration\u001b[39m                             Traceback (most recent call last)",
      "\u001b[36mCell\u001b[39m\u001b[36m \u001b[39m\u001b[32mIn[13]\u001b[39m\u001b[32m, line 1\u001b[39m\n\u001b[32m----> \u001b[39m\u001b[32m1\u001b[39m \u001b[38;5;28;43mnext\u001b[39;49m\u001b[43m(\u001b[49m\u001b[43ms1\u001b[49m\u001b[43m)\u001b[49m\n",
      "\u001b[31mStopIteration\u001b[39m: "
     ]
    }
   ],
   "source": [
    "next(s1)"
   ]
  },
  {
   "cell_type": "code",
   "execution_count": 14,
   "id": "bfa3f3bb-e5c7-4e78-b68d-03a95fc33f73",
   "metadata": {},
   "outputs": [],
   "source": [
    "#after finish all the iterable word it give stopiteration error "
   ]
  },
  {
   "cell_type": "markdown",
   "id": "8b49902f-cc0e-4f74-ba59-30d2da2420ec",
   "metadata": {},
   "source": [
    "in the same in for loop do\n",
    "1st for loop put the str in iter()function and convert it iterator and (only iterable \n",
    "function iterate)\n",
    "then for loop uesd next() function so it print it "
   ]
  },
  {
   "cell_type": "code",
   "execution_count": 25,
   "id": "bf464278-4ce2-4068-aa02-fbb9f600c65f",
   "metadata": {},
   "outputs": [
    {
     "name": "stdout",
     "output_type": "stream",
     "text": [
      "0\n",
      "1\n",
      "1\n",
      "2\n",
      "3\n",
      "5\n",
      "8\n",
      "13\n",
      "21\n",
      "34\n",
      "<class 'generator'>\n"
     ]
    }
   ],
   "source": [
    "#fibo function output using while loop\n",
    "#generotor function \n",
    "#test fibo num\n",
    "def test_fib1():\n",
    "    a,b=0,1\n",
    "    while True:\n",
    "        yield a\n",
    "        a,b = b,a+b\n",
    "\n",
    "fib=test_fib1()\n",
    "for i in range(10):\n",
    "    print(next(fib))\n",
    "\n",
    "print(type(fib)) #<class 'generator'> tai iterator "
   ]
  },
  {
   "cell_type": "code",
   "execution_count": null,
   "id": "d6d59256-6b24-4dd5-a4fd-c3c6d1297488",
   "metadata": {},
   "outputs": [],
   "source": [
    "def count_test(n):\n",
    "    count=1\n",
    "    while count<=n:\n",
    "        yield count   #yield ar mane return ,return 1 ber kore and yield ber ber return  korbe \n",
    "                      # bairer object kee valu dibe ber ber \n",
    "        count = count+1\n",
    "c= count_test(6)\n",
    "for i "
   ]
  }
 ],
 "metadata": {
  "kernelspec": {
   "display_name": "Python 3 (ipykernel)",
   "language": "python",
   "name": "python3"
  },
  "language_info": {
   "codemirror_mode": {
    "name": "ipython",
    "version": 3
   },
   "file_extension": ".py",
   "mimetype": "text/x-python",
   "name": "python",
   "nbconvert_exporter": "python",
   "pygments_lexer": "ipython3",
   "version": "3.13.5"
  }
 },
 "nbformat": 4,
 "nbformat_minor": 5
}
