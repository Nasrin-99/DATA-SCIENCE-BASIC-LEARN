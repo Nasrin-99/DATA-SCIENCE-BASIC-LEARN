{
 "cells": [
  {
   "cell_type": "code",
   "execution_count": 6,
   "id": "33f922e8-ceb4-4690-982e-8fa25c23cfc1",
   "metadata": {},
   "outputs": [
    {
     "data": {
      "text/plain": [
       "[1, 2, 3, 4]"
      ]
     },
     "execution_count": 6,
     "metadata": {},
     "output_type": "execute_result"
    }
   ],
   "source": [
    "l=[1,2,3,4]\n",
    "l"
   ]
  },
  {
   "cell_type": "code",
   "execution_count": 7,
   "id": "2684ad93-7e03-4daf-9e72-4e5e4bba48be",
   "metadata": {},
   "outputs": [
    {
     "name": "stdout",
     "output_type": "stream",
     "text": [
      "2 <class 'int'>\n",
      "3 <class 'int'>\n",
      "4 <class 'int'>\n",
      "5 <class 'int'>\n"
     ]
    }
   ],
   "source": [
    "l=[2,3,4,5]\n",
    "for i in l:\n",
    "    print(i,type(i))"
   ]
  },
  {
   "cell_type": "code",
   "execution_count": 8,
   "id": "4743d19f-8692-46eb-976f-becbf74bf08d",
   "metadata": {},
   "outputs": [
    {
     "name": "stdout",
     "output_type": "stream",
     "text": [
      "nasrin , shreya , taniya , prashant , "
     ]
    }
   ],
   "source": [
    "m=['nasrin','shreya','taniya','prashant']\n",
    "for i in m:\n",
    "    print(i,end=\" , \")"
   ]
  },
  {
   "cell_type": "markdown",
   "id": "74b553fd-f6d9-4986-a0cd-6361d0e281cd",
   "metadata": {},
   "source": [
    "FOR-ELSE LOOP"
   ]
  },
  {
   "cell_type": "code",
   "execution_count": 9,
   "id": "ca6b9102-b8b7-4d65-baf0-80a38e8b329f",
   "metadata": {},
   "outputs": [
    {
     "name": "stdout",
     "output_type": "stream",
     "text": [
      "2\n",
      "3\n",
      "4\n",
      "5\n",
      "if for loop is able to complete itself then only else will execute\n"
     ]
    }
   ],
   "source": [
    "for i in l:\n",
    "    print(i)\n",
    "else :\n",
    "    print(\"if for loop is able to complete itself then only else will execute\")\n",
    "    "
   ]
  },
  {
   "cell_type": "code",
   "execution_count": 10,
   "id": "dad04be7-a5b8-4d98-8c5f-9ed297e40d55",
   "metadata": {},
   "outputs": [
    {
     "data": {
      "text/plain": [
       "['nasrin', 'shreya', 'taniya', 'prashant']"
      ]
     },
     "execution_count": 10,
     "metadata": {},
     "output_type": "execute_result"
    }
   ],
   "source": [
    "m"
   ]
  },
  {
   "cell_type": "code",
   "execution_count": 14,
   "id": "10076fe3-e8f7-4529-ba0c-97a4aab583ea",
   "metadata": {},
   "outputs": [
    {
     "name": "stdout",
     "output_type": "stream",
     "text": [
      "nasrin\n",
      "shreya\n"
     ]
    }
   ],
   "source": [
    "for i in m:\n",
    "    if i=='taniya':\n",
    "        break\n",
    "    print(i)\n",
    "else :\n",
    "    print(\"if for loop is able to complete itself then only else will execute\")"
   ]
  },
  {
   "cell_type": "code",
   "execution_count": 16,
   "id": "193dba70-a237-4be1-9fb2-b5c4f57e9f67",
   "metadata": {},
   "outputs": [
    {
     "name": "stdout",
     "output_type": "stream",
     "text": [
      "nasrin\n",
      "shreya\n",
      "prashant\n",
      "if for loop is able to complete itself then only else will execute\n"
     ]
    }
   ],
   "source": [
    "for i in m:\n",
    "    if i=='taniya':\n",
    "        continue\n",
    "    print(i)\n",
    "else :\n",
    "    print(\"if for loop is able to complete itself then only else will execute\")"
   ]
  },
  {
   "cell_type": "code",
   "execution_count": 17,
   "id": "416f1643-c5cd-416f-a486-d291dea1821d",
   "metadata": {},
   "outputs": [
    {
     "data": {
      "text/plain": [
       "range(0, 5)"
      ]
     },
     "execution_count": 17,
     "metadata": {},
     "output_type": "execute_result"
    }
   ],
   "source": [
    "range(5)"
   ]
  },
  {
   "cell_type": "code",
   "execution_count": 18,
   "id": "076a605d-5872-4af4-89a9-b2505c649769",
   "metadata": {},
   "outputs": [
    {
     "data": {
      "text/plain": [
       "[0, 1, 2, 3, 4]"
      ]
     },
     "execution_count": 18,
     "metadata": {},
     "output_type": "execute_result"
    }
   ],
   "source": [
    "list(range(5))"
   ]
  },
  {
   "cell_type": "code",
   "execution_count": 19,
   "id": "7854ba3a-40d9-4dcd-b696-e9bf77cb823c",
   "metadata": {},
   "outputs": [
    {
     "data": {
      "text/plain": [
       "[2, 3, 4, 5]"
      ]
     },
     "execution_count": 19,
     "metadata": {},
     "output_type": "execute_result"
    }
   ],
   "source": [
    "l"
   ]
  },
  {
   "cell_type": "code",
   "execution_count": 20,
   "id": "32698f5e-9619-4406-8a76-98cd2593709a",
   "metadata": {},
   "outputs": [
    {
     "name": "stdout",
     "output_type": "stream",
     "text": [
      "2\n",
      "3\n",
      "4\n",
      "5\n"
     ]
    }
   ],
   "source": [
    "for i in range(len(l)):\n",
    "    print(l[i])"
   ]
  },
  {
   "cell_type": "code",
   "execution_count": 27,
   "id": "3b78bc2e-2791-4ed5-b569-fcc3a9c7aade",
   "metadata": {},
   "outputs": [
    {
     "data": {
      "text/plain": [
       "[4, 3, 2, 1]"
      ]
     },
     "execution_count": 27,
     "metadata": {},
     "output_type": "execute_result"
    }
   ],
   "source": [
    "list(range(len(l),0,-1))"
   ]
  },
  {
   "cell_type": "code",
   "execution_count": 26,
   "id": "e4436bb2-4c0a-4447-ab65-e8f8d3a25694",
   "metadata": {},
   "outputs": [
    {
     "name": "stdout",
     "output_type": "stream",
     "text": [
      "5\n",
      "4\n",
      "3\n",
      "2\n"
     ]
    }
   ],
   "source": [
    "#negativ deriction\n",
    "for i in list(range(len(l)-1,-1,-1)):\n",
    "    print(l[i])"
   ]
  },
  {
   "cell_type": "markdown",
   "id": "abd5f7ae-f498-4cd0-b85b-dfe9f88b8a81",
   "metadata": {},
   "source": [
    "data of even index\n"
   ]
  },
  {
   "cell_type": "code",
   "execution_count": 28,
   "id": "d0230d5e-0846-4be2-9c02-d1895adc47b0",
   "metadata": {},
   "outputs": [],
   "source": [
    "l=[2,4,3545,5533,5,6,7,4,53,42,3,231,324423,5465575,6]"
   ]
  },
  {
   "cell_type": "code",
   "execution_count": 32,
   "id": "33706002-b67e-416f-9643-9426f2a42467",
   "metadata": {},
   "outputs": [
    {
     "data": {
      "text/plain": [
       "[0, 2, 4, 6, 8, 10, 12, 14]"
      ]
     },
     "execution_count": 32,
     "metadata": {},
     "output_type": "execute_result"
    }
   ],
   "source": [
    "list(range(0,len(l),2))"
   ]
  },
  {
   "cell_type": "code",
   "execution_count": 33,
   "id": "148efd0b-857f-4031-9a07-690a1ad517c3",
   "metadata": {},
   "outputs": [
    {
     "name": "stdout",
     "output_type": "stream",
     "text": [
      "2\n",
      "3545\n",
      "5\n",
      "7\n",
      "53\n",
      "3\n",
      "324423\n",
      "6\n"
     ]
    }
   ],
   "source": [
    "for i in range(0,len(l),2):\n",
    "    print(l[i])"
   ]
  },
  {
   "cell_type": "markdown",
   "id": "273a5fa6-38e6-4278-a5da-c413d11cf7d3",
   "metadata": {},
   "source": [
    "add all element of list"
   ]
  },
  {
   "cell_type": "code",
   "execution_count": 35,
   "id": "7070e88c-e0bb-4fee-af0d-7a6fdbc1d446",
   "metadata": {},
   "outputs": [
    {
     "data": {
      "text/plain": [
       "[2, 4, 3545, 5533, 5, 6, 7, 4, 53, 42, 3, 231, 324423, 5465575, 6]"
      ]
     },
     "execution_count": 35,
     "metadata": {},
     "output_type": "execute_result"
    }
   ],
   "source": [
    "l"
   ]
  },
  {
   "cell_type": "code",
   "execution_count": 37,
   "id": "868717b0-31fd-4998-bca0-9f7ea3abcaed",
   "metadata": {},
   "outputs": [],
   "source": [
    "l=[1,2,3,4,5,6,7,8,9]"
   ]
  },
  {
   "cell_type": "code",
   "execution_count": 38,
   "id": "2dcc9461-ad4f-4da1-b431-46459f2aa0e5",
   "metadata": {},
   "outputs": [
    {
     "data": {
      "text/plain": [
       "45"
      ]
     },
     "execution_count": 38,
     "metadata": {},
     "output_type": "execute_result"
    }
   ],
   "source": [
    "sum(l)"
   ]
  },
  {
   "cell_type": "code",
   "execution_count": 40,
   "id": "61114c56-f0a6-4e17-8a08-546c7e24ff69",
   "metadata": {},
   "outputs": [
    {
     "name": "stdout",
     "output_type": "stream",
     "text": [
      "45\n"
     ]
    }
   ],
   "source": [
    "s=0\n",
    "for i in range(0,len(l)):\n",
    "    s=s+l[i]\n",
    "print(s)"
   ]
  },
  {
   "cell_type": "code",
   "execution_count": 41,
   "id": "1cd1140a-57a8-489b-8b10-80d18135a211",
   "metadata": {},
   "outputs": [
    {
     "name": "stdout",
     "output_type": "stream",
     "text": [
      "45\n"
     ]
    }
   ],
   "source": [
    "s=0\n",
    "for i in l:\n",
    "       s=s+i\n",
    "print(s)"
   ]
  },
  {
   "cell_type": "code",
   "execution_count": 42,
   "id": "c2a75830-4cba-4171-bfd7-24ce68910f0d",
   "metadata": {},
   "outputs": [
    {
     "name": "stdout",
     "output_type": "stream",
     "text": [
      "15\n"
     ]
    }
   ],
   "source": [
    "#tuples ar sathe kaj kore\n",
    "t=(1,2,3,4,5)\n",
    "s=0\n",
    "for i in t:\n",
    "       s=s+i\n",
    "print(s)"
   ]
  },
  {
   "cell_type": "code",
   "execution_count": 44,
   "id": "56850e6a-bda0-49c4-8b48-58143f87b2ae",
   "metadata": {},
   "outputs": [
    {
     "name": "stdout",
     "output_type": "stream",
     "text": [
      "1\n",
      "2\n",
      "3\n",
      "4\n",
      "df\n",
      "gft\n"
     ]
    }
   ],
   "source": [
    "#in set\n",
    "s={1,2,3,4,'df','gft'}\n",
    "for i in s:\n",
    "    print(i)"
   ]
  },
  {
   "cell_type": "code",
   "execution_count": 46,
   "id": "dedf4180-8137-4fe7-a419-586ba79988cd",
   "metadata": {},
   "outputs": [
    {
     "name": "stdout",
     "output_type": "stream",
     "text": [
      "n\n",
      "a\n",
      "s\n",
      "r\n",
      "i\n",
      "n\n"
     ]
    }
   ],
   "source": [
    "#string me \n",
    "s1= 'nasrin'\n",
    "for i in s1:\n",
    "    print(i)"
   ]
  },
  {
   "cell_type": "code",
   "execution_count": 48,
   "id": "12faff0a-64ec-4959-95ae-b3655605be70",
   "metadata": {},
   "outputs": [
    {
     "data": {
      "text/plain": [
       "{'name': 'nasrin',\n",
       " 'class': 'data science',\n",
       " 'topic': ['python',\n",
       "  'statc',\n",
       "  'ml',\n",
       "  'dl',\n",
       "  'computer vision',\n",
       "  'nlp',\n",
       "  'resume dicussion']}"
      ]
     },
     "execution_count": 48,
     "metadata": {},
     "output_type": "execute_result"
    }
   ],
   "source": [
    "d={'name':'nasrin','class':'data science','topic':['python','statc','ml','dl','computer vision','nlp','resume dicussion']}\n",
    "d"
   ]
  },
  {
   "cell_type": "code",
   "execution_count": 49,
   "id": "b5a1071d-5b6f-4485-9f48-f85cf6eeb9c9",
   "metadata": {},
   "outputs": [
    {
     "data": {
      "text/plain": [
       "dict_keys(['name', 'class', 'topic'])"
      ]
     },
     "execution_count": 49,
     "metadata": {},
     "output_type": "execute_result"
    }
   ],
   "source": [
    "d.keys()"
   ]
  },
  {
   "cell_type": "code",
   "execution_count": 51,
   "id": "36c5814d-2219-454e-936c-e13f0501723c",
   "metadata": {},
   "outputs": [
    {
     "name": "stdout",
     "output_type": "stream",
     "text": [
      "nasrin\n",
      "data science\n",
      "['python', 'statc', 'ml', 'dl', 'computer vision', 'nlp', 'resume dicussion']\n"
     ]
    }
   ],
   "source": [
    "for i in d.keys():\n",
    "    print(d[i])"
   ]
  },
  {
   "cell_type": "code",
   "execution_count": 52,
   "id": "72d3df25-e5d8-4be3-bb66-8f392869841c",
   "metadata": {},
   "outputs": [
    {
     "data": {
      "text/plain": [
       "dict_values(['nasrin', 'data science', ['python', 'statc', 'ml', 'dl', 'computer vision', 'nlp', 'resume dicussion']])"
      ]
     },
     "execution_count": 52,
     "metadata": {},
     "output_type": "execute_result"
    }
   ],
   "source": [
    "d.values()"
   ]
  },
  {
   "cell_type": "code",
   "execution_count": 53,
   "id": "b6e2fc3a-6fbc-44c6-b277-c8f81f15af39",
   "metadata": {},
   "outputs": [
    {
     "name": "stdout",
     "output_type": "stream",
     "text": [
      "nasrin\n",
      "data science\n",
      "['python', 'statc', 'ml', 'dl', 'computer vision', 'nlp', 'resume dicussion']\n"
     ]
    }
   ],
   "source": [
    "for i in d.values():\n",
    "    print(i)"
   ]
  },
  {
   "cell_type": "code",
   "execution_count": 54,
   "id": "2d8481eb-0c9c-4c16-9d8b-7f62ebfe5186",
   "metadata": {},
   "outputs": [
    {
     "data": {
      "text/plain": [
       "dict_items([('name', 'nasrin'), ('class', 'data science'), ('topic', ['python', 'statc', 'ml', 'dl', 'computer vision', 'nlp', 'resume dicussion'])])"
      ]
     },
     "execution_count": 54,
     "metadata": {},
     "output_type": "execute_result"
    }
   ],
   "source": [
    "d.items()"
   ]
  },
  {
   "cell_type": "code",
   "execution_count": null,
   "id": "6fe9d685-3373-429b-be5d-b9aa993e7d59",
   "metadata": {},
   "outputs": [],
   "source": []
  }
 ],
 "metadata": {
  "kernelspec": {
   "display_name": "Python 3 (ipykernel)",
   "language": "python",
   "name": "python3"
  },
  "language_info": {
   "codemirror_mode": {
    "name": "ipython",
    "version": 3
   },
   "file_extension": ".py",
   "mimetype": "text/x-python",
   "name": "python",
   "nbconvert_exporter": "python",
   "pygments_lexer": "ipython3",
   "version": "3.13.5"
  }
 },
 "nbformat": 4,
 "nbformat_minor": 5
}
