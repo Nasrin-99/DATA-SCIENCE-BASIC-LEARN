{
 "cells": [
  {
   "cell_type": "code",
   "execution_count": 1,
   "id": "1fe7cdb6-ed63-4a48-9033-8191b36c15c8",
   "metadata": {},
   "outputs": [],
   "source": [
    "a=1"
   ]
  },
  {
   "cell_type": "code",
   "execution_count": 2,
   "id": "d740140a-d9fd-4922-9e30-4a79c7a93091",
   "metadata": {},
   "outputs": [
    {
     "name": "stdout",
     "output_type": "stream",
     "text": [
      "<class 'int'>\n"
     ]
    }
   ],
   "source": [
    "print(type(a))"
   ]
  },
  {
   "cell_type": "code",
   "execution_count": 4,
   "id": "f7e71bfe-bbbc-4e42-a376-c2547dcb9aaa",
   "metadata": {},
   "outputs": [
    {
     "name": "stdout",
     "output_type": "stream",
     "text": [
      "<class 'str'>\n"
     ]
    }
   ],
   "source": [
    "print(type(\"nasrin\"))"
   ]
  },
  {
   "cell_type": "code",
   "execution_count": 6,
   "id": "6f55b855-4ddc-42ec-a560-773930625f84",
   "metadata": {},
   "outputs": [],
   "source": [
    "#empty class\n",
    "class test:\n",
    "    pass"
   ]
  },
  {
   "cell_type": "code",
   "execution_count": 7,
   "id": "68c15ddb-9b93-46a2-ae4d-65ea4b644c33",
   "metadata": {},
   "outputs": [],
   "source": [
    "a=test()"
   ]
  },
  {
   "cell_type": "code",
   "execution_count": 8,
   "id": "9f9155fe-7be9-4411-8bdf-32f46f6c8ecf",
   "metadata": {},
   "outputs": [
    {
     "data": {
      "text/plain": [
       "__main__.test"
      ]
     },
     "execution_count": 8,
     "metadata": {},
     "output_type": "execute_result"
    }
   ],
   "source": [
    "type(a)"
   ]
  },
  {
   "cell_type": "code",
   "execution_count": 9,
   "id": "6b97cee5-d9fc-4178-ab07-8c892205ee33",
   "metadata": {},
   "outputs": [
    {
     "name": "stdout",
     "output_type": "stream",
     "text": [
      "<class '__main__.test'>\n"
     ]
    }
   ],
   "source": [
    "print(type(a))"
   ]
  },
  {
   "cell_type": "code",
   "execution_count": 15,
   "id": "bf2aedd9-9592-4ba6-8225-468f9865ded0",
   "metadata": {},
   "outputs": [],
   "source": [
    "class pwskill:\n",
    "    def welcome_msg(self): #to write self  method is buind in class\n",
    "        print(\"welcome to pwskill\")"
   ]
  },
  {
   "cell_type": "code",
   "execution_count": 16,
   "id": "d7d64022-abe5-4925-930f-83a9269772ec",
   "metadata": {},
   "outputs": [],
   "source": [
    "nasrin = pwskill()"
   ]
  },
  {
   "cell_type": "code",
   "execution_count": 17,
   "id": "123f57e0-fc38-4d81-9f3b-f55e1edc9cc0",
   "metadata": {},
   "outputs": [
    {
     "name": "stdout",
     "output_type": "stream",
     "text": [
      "<class '__main__.pwskill'>\n"
     ]
    }
   ],
   "source": [
    "print(type(nasrin))"
   ]
  },
  {
   "cell_type": "code",
   "execution_count": 18,
   "id": "e2e533b8-0bc3-4961-a26b-f504b8c4e390",
   "metadata": {},
   "outputs": [
    {
     "name": "stdout",
     "output_type": "stream",
     "text": [
      "welcome to pwskill\n"
     ]
    }
   ],
   "source": [
    "nasrin.welcome_msg()"
   ]
  },
  {
   "cell_type": "code",
   "execution_count": 21,
   "id": "5c922328-17d8-4501-bd7e-14a165bf3c54",
   "metadata": {},
   "outputs": [
    {
     "name": "stdout",
     "output_type": "stream",
     "text": [
      "welcome to pwskill\n"
     ]
    }
   ],
   "source": [
    "rohan=pwskill() #object\n",
    "rohan.welcome_msg() #call"
   ]
  },
  {
   "cell_type": "code",
   "execution_count": 23,
   "id": "ca40d99c-b779-4e5d-8f96-ae0644d5b11e",
   "metadata": {},
   "outputs": [],
   "source": [
    "class pwskill1 :\n",
    "    def __init__ (self,phone_number,email_id,student_id):\n",
    "        self.phone_number = phone_number\n",
    "        self.email_id = email_id\n",
    "        self.student_id = student_id\n",
    "    def retun_student_detiles(self):\n",
    "        return self.student_id,self.phone_number,self.email_id"
   ]
  },
  {
   "cell_type": "code",
   "execution_count": 24,
   "id": "0500f8c8-374a-482f-a276-f6c23d4edeaf",
   "metadata": {},
   "outputs": [],
   "source": [
    "rohan=pwskill1(5354454,'fdf@gmail.com',121)"
   ]
  },
  {
   "cell_type": "code",
   "execution_count": 25,
   "id": "07f4311b-7226-4702-ac94-0151f6f2ef7b",
   "metadata": {},
   "outputs": [
    {
     "data": {
      "text/plain": [
       "(121, 5354454, 'fdf@gmail.com')"
      ]
     },
     "execution_count": 25,
     "metadata": {},
     "output_type": "execute_result"
    }
   ],
   "source": [
    "rohan.retun_student_detiles()"
   ]
  },
  {
   "cell_type": "code",
   "execution_count": 27,
   "id": "30c0fee3-51ea-4c32-94d8-52927d5d057e",
   "metadata": {},
   "outputs": [
    {
     "data": {
      "text/plain": [
       "5354454"
      ]
     },
     "execution_count": 27,
     "metadata": {},
     "output_type": "execute_result"
    }
   ],
   "source": [
    "rohan.phone_number #class ar baire . lagiye call calss ar vitore self diye\n"
   ]
  },
  {
   "cell_type": "code",
   "execution_count": 28,
   "id": "3c2a1e30-aefd-4609-b83f-548904a0fe87",
   "metadata": {},
   "outputs": [
    {
     "data": {
      "text/plain": [
       "'fdf@gmail.com'"
      ]
     },
     "execution_count": 28,
     "metadata": {},
     "output_type": "execute_result"
    }
   ],
   "source": [
    "rohan.email_id"
   ]
  },
  {
   "cell_type": "code",
   "execution_count": 33,
   "id": "27aa1c91-4e83-4327-a0e5-8e4bac84ad37",
   "metadata": {},
   "outputs": [],
   "source": [
    "class pwskill2 :\n",
    "    def __init__ (self,phone_number,email_id,student_id): #slef is not reserved keyword\n",
    "        self.phone__number = phone_number  #but we put 1st arugement as apointer like it's behave\n",
    "        #like pointer  here we write self we can put any word lais\n",
    "        self.email__id = email_id\n",
    "        self.student__id = student_id\n",
    "    def retun_student_detiles(self):\n",
    "        return self.student__id,self.phone__number,self.email__id"
   ]
  },
  {
   "cell_type": "code",
   "execution_count": 34,
   "id": "2ab51643-e1a3-4924-830e-fe2bc552b19d",
   "metadata": {},
   "outputs": [],
   "source": [
    "sohan = pwskill2(543535,'gfg@gmail.cm',143)"
   ]
  },
  {
   "cell_type": "code",
   "execution_count": 35,
   "id": "7a2f4803-870d-4c53-a301-ae22e4c52ab3",
   "metadata": {},
   "outputs": [
    {
     "data": {
      "text/plain": [
       "(143, 543535, 'gfg@gmail.cm')"
      ]
     },
     "execution_count": 35,
     "metadata": {},
     "output_type": "execute_result"
    }
   ],
   "source": [
    "sohan.retun_student_detiles()"
   ]
  },
  {
   "cell_type": "code",
   "execution_count": 36,
   "id": "c55b45b2-85ae-42dd-b110-7846e65f45f6",
   "metadata": {},
   "outputs": [
    {
     "data": {
      "text/plain": [
       "543535"
      ]
     },
     "execution_count": 36,
     "metadata": {},
     "output_type": "execute_result"
    }
   ],
   "source": [
    "sohan.phone__number"
   ]
  },
  {
   "cell_type": "code",
   "execution_count": null,
   "id": "5560f71c-9cac-4abf-aafd-c85371d2d754",
   "metadata": {},
   "outputs": [],
   "source": []
  }
 ],
 "metadata": {
  "kernelspec": {
   "display_name": "Python 3 (ipykernel)",
   "language": "python",
   "name": "python3"
  },
  "language_info": {
   "codemirror_mode": {
    "name": "ipython",
    "version": 3
   },
   "file_extension": ".py",
   "mimetype": "text/x-python",
   "name": "python",
   "nbconvert_exporter": "python",
   "pygments_lexer": "ipython3",
   "version": "3.13.5"
  }
 },
 "nbformat": 4,
 "nbformat_minor": 5
}
