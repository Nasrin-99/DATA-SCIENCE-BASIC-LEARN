{
 "cells": [
  {
   "cell_type": "code",
   "execution_count": 1,
   "id": "ff38c167-e03d-4032-8c49-52e88bda4a7d",
   "metadata": {},
   "outputs": [],
   "source": [
    "s=\"nasrin\""
   ]
  },
  {
   "cell_type": "code",
   "execution_count": 2,
   "id": "a7d8e07a-ea88-460b-a3b4-b9235f2e8af7",
   "metadata": {},
   "outputs": [
    {
     "data": {
      "text/plain": [
       "'nasrin'"
      ]
     },
     "execution_count": 2,
     "metadata": {},
     "output_type": "execute_result"
    }
   ],
   "source": [
    "s"
   ]
  },
  {
   "cell_type": "code",
   "execution_count": 5,
   "id": "b80b0eb0-2861-47fd-9adb-4aa1b5f6cdba",
   "metadata": {},
   "outputs": [
    {
     "data": {
      "text/plain": [
       "'n'"
      ]
     },
     "execution_count": 5,
     "metadata": {},
     "output_type": "execute_result"
    }
   ],
   "source": [
    "s[0]"
   ]
  },
  {
   "cell_type": "code",
   "execution_count": 7,
   "id": "b81f7bad-bec2-4424-bc42-a0cbf72f90f7",
   "metadata": {},
   "outputs": [
    {
     "data": {
      "text/plain": [
       "1"
      ]
     },
     "execution_count": 7,
     "metadata": {},
     "output_type": "execute_result"
    }
   ],
   "source": [
    "s.find('a')"
   ]
  },
  {
   "cell_type": "code",
   "execution_count": 9,
   "id": "44515c36-c62f-4a24-9fce-7638629737d1",
   "metadata": {},
   "outputs": [
    {
     "data": {
      "text/plain": [
       "2"
      ]
     },
     "execution_count": 9,
     "metadata": {},
     "output_type": "execute_result"
    }
   ],
   "source": [
    "s.count(\"n\")"
   ]
  },
  {
   "cell_type": "code",
   "execution_count": 10,
   "id": "ee2e65fd-9646-486b-ba46-193018949be5",
   "metadata": {},
   "outputs": [
    {
     "data": {
      "text/plain": [
       "'NASRIN'"
      ]
     },
     "execution_count": 10,
     "metadata": {},
     "output_type": "execute_result"
    }
   ],
   "source": [
    "s.upper()"
   ]
  },
  {
   "cell_type": "code",
   "execution_count": 11,
   "id": "3c54b236-a701-48be-9c3b-c54fd36d3398",
   "metadata": {},
   "outputs": [],
   "source": [
    "v=\"my name is nasrin\""
   ]
  },
  {
   "cell_type": "code",
   "execution_count": 12,
   "id": "e00a2285-5a28-4596-a90d-d0092be5986c",
   "metadata": {},
   "outputs": [
    {
     "data": {
      "text/plain": [
       "'MY NAME IS NASRIN'"
      ]
     },
     "execution_count": 12,
     "metadata": {},
     "output_type": "execute_result"
    }
   ],
   "source": [
    "v.upper()"
   ]
  },
  {
   "cell_type": "code",
   "execution_count": 13,
   "id": "f4602f51-9ebc-4899-b670-131822ac866d",
   "metadata": {},
   "outputs": [
    {
     "data": {
      "text/plain": [
       "'my name is nasrin'"
      ]
     },
     "execution_count": 13,
     "metadata": {},
     "output_type": "execute_result"
    }
   ],
   "source": [
    " v"
   ]
  },
  {
   "cell_type": "code",
   "execution_count": 14,
   "id": "35591163-b2ee-4e44-b3dc-dcb4247d39ce",
   "metadata": {},
   "outputs": [],
   "source": [
    "p='MY NAME IS NASRIN'"
   ]
  },
  {
   "cell_type": "code",
   "execution_count": 15,
   "id": "48d742f9-ab3e-422b-85bd-cebe34ee2a6d",
   "metadata": {},
   "outputs": [
    {
     "data": {
      "text/plain": [
       "'my name is nasrin'"
      ]
     },
     "execution_count": 15,
     "metadata": {},
     "output_type": "execute_result"
    }
   ],
   "source": [
    "p.lower()"
   ]
  },
  {
   "cell_type": "code",
   "execution_count": 16,
   "id": "cb1eba3a-1bd8-4b45-97fb-38c9a51ebdd6",
   "metadata": {},
   "outputs": [
    {
     "data": {
      "text/plain": [
       "'My Name Is Nasrin'"
      ]
     },
     "execution_count": 16,
     "metadata": {},
     "output_type": "execute_result"
    }
   ],
   "source": [
    "v.title()"
   ]
  },
  {
   "cell_type": "code",
   "execution_count": 1,
   "id": "fc9048f6-2f0c-42a1-b912-145db6145354",
   "metadata": {},
   "outputs": [],
   "source": [
    "#hu i am\n"
   ]
  },
  {
   "cell_type": "code",
   "execution_count": 11,
   "id": "1a3ebe90-b9b1-42df-8f1b-af100e4d8ff2",
   "metadata": {},
   "outputs": [],
   "source": [
    "l=[1,34,True,\"nas\",2.4,3+6j,76]"
   ]
  },
  {
   "cell_type": "code",
   "execution_count": 3,
   "id": "1624352a-b415-44ae-a17b-ae58ee3475a5",
   "metadata": {},
   "outputs": [
    {
     "data": {
      "text/plain": [
       "list"
      ]
     },
     "execution_count": 3,
     "metadata": {},
     "output_type": "execute_result"
    }
   ],
   "source": [
    "type(l)"
   ]
  },
  {
   "cell_type": "code",
   "execution_count": 5,
   "id": "745ed9e8-e5f2-4750-8fe2-b5930cfb83dc",
   "metadata": {},
   "outputs": [
    {
     "data": {
      "text/plain": [
       "'nas'"
      ]
     },
     "execution_count": 5,
     "metadata": {},
     "output_type": "execute_result"
    }
   ],
   "source": [
    "l[2]"
   ]
  },
  {
   "cell_type": "code",
   "execution_count": 6,
   "id": "1b9f9cae-b694-45a5-badf-e1c71abd95b4",
   "metadata": {},
   "outputs": [
    {
     "data": {
      "text/plain": [
       "(3+6j)"
      ]
     },
     "execution_count": 6,
     "metadata": {},
     "output_type": "execute_result"
    }
   ],
   "source": [
    "l[4]"
   ]
  },
  {
   "cell_type": "code",
   "execution_count": 7,
   "id": "ac60ea9b-bee8-4ba9-beb2-4824207292af",
   "metadata": {},
   "outputs": [
    {
     "data": {
      "text/plain": [
       "[1, 34, 'nas', 2.4]"
      ]
     },
     "execution_count": 7,
     "metadata": {},
     "output_type": "execute_result"
    }
   ],
   "source": [
    "l[0:4]"
   ]
  },
  {
   "cell_type": "code",
   "execution_count": 8,
   "id": "f04ee291-fccf-47ed-ab21-a7b8df91b779",
   "metadata": {},
   "outputs": [
    {
     "data": {
      "text/plain": [
       "[76, (3+6j), 2.4, 'nas', 34, 1]"
      ]
     },
     "execution_count": 8,
     "metadata": {},
     "output_type": "execute_result"
    }
   ],
   "source": [
    "l[::-1]"
   ]
  },
  {
   "cell_type": "code",
   "execution_count": 10,
   "id": "20a4975b-3b2a-4614-ab89-e0605a8c89e9",
   "metadata": {},
   "outputs": [
    {
     "data": {
      "text/plain": [
       "'na'"
      ]
     },
     "execution_count": 10,
     "metadata": {},
     "output_type": "execute_result"
    }
   ],
   "source": [
    "l[2][0:2]"
   ]
  },
  {
   "cell_type": "code",
   "execution_count": 12,
   "id": "5a73ba77-5e09-4312-b023-d477cb8a8470",
   "metadata": {},
   "outputs": [
    {
     "data": {
      "text/plain": [
       "[1, 34, True, 'nas', 2.4, (3+6j), 76]"
      ]
     },
     "execution_count": 12,
     "metadata": {},
     "output_type": "execute_result"
    }
   ],
   "source": [
    "l"
   ]
  },
  {
   "cell_type": "code",
   "execution_count": 15,
   "id": "655323fb-db79-4506-ae47-cc419d6dd0d9",
   "metadata": {},
   "outputs": [
    {
     "data": {
      "text/plain": [
       "'Tr'"
      ]
     },
     "execution_count": 15,
     "metadata": {},
     "output_type": "execute_result"
    }
   ],
   "source": [
    "str(l[2])[0:2]"
   ]
  },
  {
   "cell_type": "code",
   "execution_count": 16,
   "id": "d474309a-e416-414f-bae2-ba599f3425c6",
   "metadata": {},
   "outputs": [
    {
     "data": {
      "text/plain": [
       "[1, 34, True, 'nas', 2.4, (3+6j), 76, 5]"
      ]
     },
     "execution_count": 16,
     "metadata": {},
     "output_type": "execute_result"
    }
   ],
   "source": [
    "l+[5]"
   ]
  },
  {
   "cell_type": "code",
   "execution_count": 17,
   "id": "c1219ae0-50e1-45c4-bcca-6d5dd31666db",
   "metadata": {},
   "outputs": [],
   "source": [
    "l1=[1,2,3]"
   ]
  },
  {
   "cell_type": "code",
   "execution_count": 18,
   "id": "7c43a9dd-effe-432a-b0b4-9fb5534c65f5",
   "metadata": {},
   "outputs": [
    {
     "data": {
      "text/plain": [
       "[1, 2, 3]"
      ]
     },
     "execution_count": 18,
     "metadata": {},
     "output_type": "execute_result"
    }
   ],
   "source": [
    "l1"
   ]
  },
  {
   "cell_type": "code",
   "execution_count": 19,
   "id": "d6fb925e-4041-47e3-b9ac-af8903413a6a",
   "metadata": {},
   "outputs": [
    {
     "data": {
      "text/plain": [
       "[1, 2, 3, 1, 2, 3, 1, 2, 3]"
      ]
     },
     "execution_count": 19,
     "metadata": {},
     "output_type": "execute_result"
    }
   ],
   "source": [
    "l1*3"
   ]
  },
  {
   "cell_type": "code",
   "execution_count": 20,
   "id": "9073f7fb-1650-41b8-8258-0e2c18c59e66",
   "metadata": {},
   "outputs": [
    {
     "data": {
      "text/plain": [
       "7"
      ]
     },
     "execution_count": 20,
     "metadata": {},
     "output_type": "execute_result"
    }
   ],
   "source": [
    "len(l)"
   ]
  },
  {
   "cell_type": "code",
   "execution_count": 21,
   "id": "43856f99-381d-460c-b27b-f1f5e2d2a899",
   "metadata": {},
   "outputs": [
    {
     "data": {
      "text/plain": [
       "3"
      ]
     },
     "execution_count": 21,
     "metadata": {},
     "output_type": "execute_result"
    }
   ],
   "source": [
    "len(l1)"
   ]
  },
  {
   "cell_type": "code",
   "execution_count": 22,
   "id": "bc181630-888d-478b-ab7c-b40a7464627f",
   "metadata": {},
   "outputs": [],
   "source": [
    "l1.append(6)"
   ]
  },
  {
   "cell_type": "code",
   "execution_count": 23,
   "id": "1cc47cf9-ecb2-4e70-90b6-521356745ce9",
   "metadata": {},
   "outputs": [
    {
     "data": {
      "text/plain": [
       "[1, 2, 3, 6]"
      ]
     },
     "execution_count": 23,
     "metadata": {},
     "output_type": "execute_result"
    }
   ],
   "source": [
    "l1"
   ]
  },
  {
   "cell_type": "code",
   "execution_count": 24,
   "id": "d0f00c1f-9704-405b-9bdb-b96e8a0c6426",
   "metadata": {},
   "outputs": [],
   "source": [
    "s=\"nasrin\""
   ]
  },
  {
   "cell_type": "code",
   "execution_count": 25,
   "id": "bcfae209-4469-453f-89a0-35df1f566e0b",
   "metadata": {},
   "outputs": [
    {
     "data": {
      "text/plain": [
       "[1, 2, 3, 6, 'nasrin']"
      ]
     },
     "execution_count": 25,
     "metadata": {},
     "output_type": "execute_result"
    }
   ],
   "source": [
    "l1.append(s)\n",
    "l1"
   ]
  },
  {
   "cell_type": "code",
   "execution_count": 26,
   "id": "ae8fe672-db2a-48be-b50c-2a760b178d52",
   "metadata": {},
   "outputs": [],
   "source": [
    "l.append(l1)\n"
   ]
  },
  {
   "cell_type": "code",
   "execution_count": 27,
   "id": "efec7d86-6654-46a2-a10c-4694c230b837",
   "metadata": {},
   "outputs": [
    {
     "data": {
      "text/plain": [
       "[1, 34, True, 'nas', 2.4, (3+6j), 76, [1, 2, 3, 6, 'nasrin']]"
      ]
     },
     "execution_count": 27,
     "metadata": {},
     "output_type": "execute_result"
    }
   ],
   "source": [
    "l"
   ]
  },
  {
   "cell_type": "code",
   "execution_count": 28,
   "id": "4a8a487b-be88-492e-861f-5b3fd1c2e3ba",
   "metadata": {},
   "outputs": [
    {
     "data": {
      "text/plain": [
       "[1,\n",
       " 34,\n",
       " True,\n",
       " 'nas',\n",
       " 2.4,\n",
       " (3+6j),\n",
       " 76,\n",
       " [1, 2, 3, 6, 'nasrin', ['e', 2, 5]],\n",
       " [1, 2, 3, 6, 'nasrin', ['e', 2, 5]]]"
      ]
     },
     "execution_count": 28,
     "metadata": {},
     "output_type": "execute_result"
    }
   ],
   "source": [
    "p=['e',2,5]\n",
    "l1.append(p)\n",
    "l.append(l1)\n",
    "l"
   ]
  },
  {
   "cell_type": "code",
   "execution_count": 29,
   "id": "bc092f5f-f824-473e-8361-a7bab0a3cbb9",
   "metadata": {},
   "outputs": [
    {
     "data": {
      "text/plain": [
       "[1,\n",
       " 34,\n",
       " True,\n",
       " 'nas',\n",
       " 2.4,\n",
       " (3+6j),\n",
       " 76,\n",
       " [1, 2, 3, 6, 'nasrin', ['e', 2, 5]],\n",
       " [1, 2, 3, 6, 'nasrin', ['e', 2, 5]]]"
      ]
     },
     "execution_count": 29,
     "metadata": {},
     "output_type": "execute_result"
    }
   ],
   "source": [
    "l"
   ]
  },
  {
   "cell_type": "code",
   "execution_count": 30,
   "id": "9b5736f6-bd69-421c-951c-a5b18f483440",
   "metadata": {},
   "outputs": [
    {
     "data": {
      "text/plain": [
       "[1, 2, 3, 6, 'nasrin', ['e', 2, 5]]"
      ]
     },
     "execution_count": 30,
     "metadata": {},
     "output_type": "execute_result"
    }
   ],
   "source": [
    "l1"
   ]
  },
  {
   "cell_type": "code",
   "execution_count": 31,
   "id": "0c334e6b-97b8-4b25-b6da-88a36fe7ddc9",
   "metadata": {},
   "outputs": [
    {
     "data": {
      "text/plain": [
       "['e', 2, 5]"
      ]
     },
     "execution_count": 31,
     "metadata": {},
     "output_type": "execute_result"
    }
   ],
   "source": [
    "p"
   ]
  },
  {
   "cell_type": "code",
   "execution_count": 32,
   "id": "bdb3fa06-4154-4354-b891-ef57090840a1",
   "metadata": {},
   "outputs": [],
   "source": [
    "l=[1,2,3]"
   ]
  },
  {
   "cell_type": "code",
   "execution_count": 33,
   "id": "f57678f5-1f55-4cf3-afcd-6d27f8d36a78",
   "metadata": {},
   "outputs": [
    {
     "data": {
      "text/plain": [
       "[1, 2, 3]"
      ]
     },
     "execution_count": 33,
     "metadata": {},
     "output_type": "execute_result"
    }
   ],
   "source": [
    "l"
   ]
  },
  {
   "cell_type": "code",
   "execution_count": 34,
   "id": "c6781da8-1ca4-4059-896a-e8cd76f353d8",
   "metadata": {},
   "outputs": [],
   "source": [
    "l1=[4,5,6]"
   ]
  },
  {
   "cell_type": "code",
   "execution_count": 35,
   "id": "707f375a-0a1d-4b5d-8212-069fd7fe1883",
   "metadata": {},
   "outputs": [],
   "source": [
    "l2=[7,9,8]\n"
   ]
  },
  {
   "cell_type": "code",
   "execution_count": 36,
   "id": "ed095c0f-fc0c-4b8c-96bc-859f4246d40b",
   "metadata": {},
   "outputs": [],
   "source": [
    "p=['e','t','y']"
   ]
  },
  {
   "cell_type": "code",
   "execution_count": 37,
   "id": "7fa36da5-c1ee-4df8-9e86-31d37c3825e9",
   "metadata": {},
   "outputs": [
    {
     "data": {
      "text/plain": [
       "[7, 9, 8, ['e', 't', 'y']]"
      ]
     },
     "execution_count": 37,
     "metadata": {},
     "output_type": "execute_result"
    }
   ],
   "source": [
    "l2.append(p)\n",
    "l2\n"
   ]
  },
  {
   "cell_type": "code",
   "execution_count": 38,
   "id": "37181a0f-0bfc-4bcd-8d89-d434e3cf1415",
   "metadata": {},
   "outputs": [
    {
     "data": {
      "text/plain": [
       "[4, 5, 6, [7, 9, 8, ['e', 't', 'y']]]"
      ]
     },
     "execution_count": 38,
     "metadata": {},
     "output_type": "execute_result"
    }
   ],
   "source": [
    "l1.append(l2)\n",
    "l1"
   ]
  },
  {
   "cell_type": "code",
   "execution_count": 40,
   "id": "eda65004-c3e5-46d1-8ff6-75982b89a8b0",
   "metadata": {},
   "outputs": [
    {
     "data": {
      "text/plain": [
       "[1, 2, 3, [4, 5, 6, [7, 9, 8, ['e', 't', 'y']]]]"
      ]
     },
     "execution_count": 40,
     "metadata": {},
     "output_type": "execute_result"
    }
   ],
   "source": [
    "l.append(l1) \n",
    "l"
   ]
  },
  {
   "cell_type": "code",
   "execution_count": 41,
   "id": "00ac8f84-e9c1-4d6c-84c0-cb6a931f4b8a",
   "metadata": {},
   "outputs": [
    {
     "data": {
      "text/plain": [
       "'e'"
      ]
     },
     "execution_count": 41,
     "metadata": {},
     "output_type": "execute_result"
    }
   ],
   "source": [
    "l[3][3][3][0]"
   ]
  },
  {
   "cell_type": "code",
   "execution_count": 42,
   "id": "5b7ebd17-d7f2-413f-8e1e-daa71d8a15ce",
   "metadata": {},
   "outputs": [
    {
     "data": {
      "text/plain": [
       "[1, 2, 3, [4, 5, 6, [7, 9, 8, ['e', 't', 'y']]]]"
      ]
     },
     "execution_count": 42,
     "metadata": {},
     "output_type": "execute_result"
    }
   ],
   "source": [
    "l"
   ]
  },
  {
   "cell_type": "code",
   "execution_count": 43,
   "id": "766f8c42-4607-49de-90df-9a08a10a7508",
   "metadata": {},
   "outputs": [
    {
     "data": {
      "text/plain": [
       "['e', 't', 'y']"
      ]
     },
     "execution_count": 43,
     "metadata": {},
     "output_type": "execute_result"
    }
   ],
   "source": [
    "p"
   ]
  },
  {
   "cell_type": "code",
   "execution_count": 45,
   "id": "76ea6547-c319-4fbd-bd70-8afd9b552b30",
   "metadata": {},
   "outputs": [],
   "source": [
    "p.extend(\"nas\")"
   ]
  },
  {
   "cell_type": "code",
   "execution_count": 46,
   "id": "3ea9b4fb-eb07-468e-9c11-7c0bc7c69f26",
   "metadata": {},
   "outputs": [
    {
     "data": {
      "text/plain": [
       "['e', 't', 'y', 'n', 'a', 's']"
      ]
     },
     "execution_count": 46,
     "metadata": {},
     "output_type": "execute_result"
    }
   ],
   "source": [
    "p"
   ]
  },
  {
   "cell_type": "code",
   "execution_count": 55,
   "id": "4811c248-6431-4d89-adc1-5345c312cd8f",
   "metadata": {},
   "outputs": [],
   "source": [
    "p\n",
    "s=\"nasrin\""
   ]
  },
  {
   "cell_type": "code",
   "execution_count": 56,
   "id": "47c0da3b-bb21-4b1f-88a4-6ab78332e061",
   "metadata": {},
   "outputs": [
    {
     "data": {
      "text/plain": [
       "['e', 't', None, 'nasrin', 'y', 'n', 'a', 's', 'n', 'a', 's', 'r', 'i', 'n']"
      ]
     },
     "execution_count": 56,
     "metadata": {},
     "output_type": "execute_result"
    }
   ],
   "source": [
    "p.insert(2,p.extend(s))\n",
    "p"
   ]
  },
  {
   "cell_type": "code",
   "execution_count": 57,
   "id": "3d224339-763d-432e-a74d-555466b8ddf9",
   "metadata": {},
   "outputs": [
    {
     "data": {
      "text/plain": [
       "[1,\n",
       " 2,\n",
       " 3,\n",
       " [4,\n",
       "  5,\n",
       "  6,\n",
       "  [7,\n",
       "   9,\n",
       "   8,\n",
       "   ['e',\n",
       "    't',\n",
       "    None,\n",
       "    'nasrin',\n",
       "    'y',\n",
       "    'n',\n",
       "    'a',\n",
       "    's',\n",
       "    'n',\n",
       "    'a',\n",
       "    's',\n",
       "    'r',\n",
       "    'i',\n",
       "    'n']]]]"
      ]
     },
     "execution_count": 57,
     "metadata": {},
     "output_type": "execute_result"
    }
   ],
   "source": [
    "l"
   ]
  },
  {
   "cell_type": "code",
   "execution_count": 58,
   "id": "9c7701a5-fe3a-4a58-b3a2-078cd4f87473",
   "metadata": {},
   "outputs": [],
   "source": [
    "l=[1,2,3]\n"
   ]
  },
  {
   "cell_type": "code",
   "execution_count": 59,
   "id": "097fdc36-2c32-4a41-8f3a-30fa112e7fbc",
   "metadata": {},
   "outputs": [
    {
     "data": {
      "text/plain": [
       "[1, 2, 3]"
      ]
     },
     "execution_count": 59,
     "metadata": {},
     "output_type": "execute_result"
    }
   ],
   "source": [
    "l"
   ]
  },
  {
   "cell_type": "code",
   "execution_count": 61,
   "id": "031bd154-f713-42f9-98a9-c0323a8498b3",
   "metadata": {},
   "outputs": [
    {
     "data": {
      "text/plain": [
       "[1, None, 2, 3, 'n', 'a', 's', 'r', 'i', 'n']"
      ]
     },
     "execution_count": 61,
     "metadata": {},
     "output_type": "execute_result"
    }
   ],
   "source": [
    "l.insert(1,l.extend(\"nasrin\"))\n",
    "l"
   ]
  },
  {
   "cell_type": "code",
   "execution_count": 62,
   "id": "3d82aac7-6020-41a5-9678-412f5ff32f31",
   "metadata": {},
   "outputs": [
    {
     "data": {
      "text/plain": [
       "[1, None, 2, 3, 'n', 'a', 's', 'r', 'i', 'n']"
      ]
     },
     "execution_count": 62,
     "metadata": {},
     "output_type": "execute_result"
    }
   ],
   "source": [
    "l"
   ]
  },
  {
   "cell_type": "code",
   "execution_count": 63,
   "id": "a40983e3-9536-4c51-b2b3-53f7819d35b7",
   "metadata": {},
   "outputs": [
    {
     "data": {
      "text/plain": [
       "[1, 9, 2, 3, 'n', 'a', 's', 'r', 'i', 'n']"
      ]
     },
     "execution_count": 63,
     "metadata": {},
     "output_type": "execute_result"
    }
   ],
   "source": [
    "l[1]=9\n",
    "l"
   ]
  },
  {
   "cell_type": "code",
   "execution_count": 66,
   "id": "55333e18-4b09-4ab1-9af1-1ccb3b06691f",
   "metadata": {},
   "outputs": [
    {
     "data": {
      "text/plain": [
       "[1, 9, 'nasrin', 2, 3, 'n', 'a', 's', 'r', 'i', 'nasrin', 'n']"
      ]
     },
     "execution_count": 66,
     "metadata": {},
     "output_type": "execute_result"
    }
   ],
   "source": [
    "l.insert(-1,\"nasrin\")\n",
    "l"
   ]
  },
  {
   "cell_type": "code",
   "execution_count": 67,
   "id": "0b0aac3c-3344-4cd2-b890-09615cc189fe",
   "metadata": {},
   "outputs": [
    {
     "data": {
      "text/plain": [
       "[1, 9, 'nasrin', 2, 3, 'n', 'a', 's', 'r', 'i', 'nasrin']"
      ]
     },
     "execution_count": 67,
     "metadata": {},
     "output_type": "execute_result"
    }
   ],
   "source": [
    "l.pop()\n",
    "l"
   ]
  },
  {
   "cell_type": "code",
   "execution_count": 68,
   "id": "3d8d5eec-d8fe-4d90-82e4-bea7500badc2",
   "metadata": {},
   "outputs": [
    {
     "data": {
      "text/plain": [
       "'nasrin'"
      ]
     },
     "execution_count": 68,
     "metadata": {},
     "output_type": "execute_result"
    }
   ],
   "source": [
    " l.pop(2)"
   ]
  },
  {
   "cell_type": "code",
   "execution_count": 69,
   "id": "95c6252f-7ab4-43f2-9b64-209e04a099b7",
   "metadata": {},
   "outputs": [
    {
     "data": {
      "text/plain": [
       "[1, 9, 2, 3, 'n', 'a', 's', 'r', 'i', 'nasrin']"
      ]
     },
     "execution_count": 69,
     "metadata": {},
     "output_type": "execute_result"
    }
   ],
   "source": [
    "l"
   ]
  },
  {
   "cell_type": "code",
   "execution_count": 70,
   "id": "205ee177-c8fa-470f-bef5-4fafa798c908",
   "metadata": {},
   "outputs": [
    {
     "data": {
      "text/plain": [
       "[1, 2, 3, 'n', 'a', 's', 'r', 'i', 'nasrin']"
      ]
     },
     "execution_count": 70,
     "metadata": {},
     "output_type": "execute_result"
    }
   ],
   "source": [
    "l.remove(9)\n",
    "l"
   ]
  },
  {
   "cell_type": "code",
   "execution_count": 71,
   "id": "7a7fa287-d4d8-4e90-b7c6-25de8c618486",
   "metadata": {},
   "outputs": [
    {
     "data": {
      "text/plain": [
       "['e', 't', None, 'nasrin', 'y', 'n', 'a', 's', 'n', 'a', 's', 'r', 'i', 'n']"
      ]
     },
     "execution_count": 71,
     "metadata": {},
     "output_type": "execute_result"
    }
   ],
   "source": [
    "p"
   ]
  },
  {
   "cell_type": "code",
   "execution_count": 72,
   "id": "18b3fdbc-a0b4-48ce-99c7-63521c44785c",
   "metadata": {},
   "outputs": [],
   "source": [
    "p=[1,2,4,[3,5,6]]"
   ]
  },
  {
   "cell_type": "code",
   "execution_count": 73,
   "id": "7aa97dac-b50a-48ad-981e-474c252b7599",
   "metadata": {},
   "outputs": [
    {
     "data": {
      "text/plain": [
       "[1, 2, 4, [3, 5, 6]]"
      ]
     },
     "execution_count": 73,
     "metadata": {},
     "output_type": "execute_result"
    }
   ],
   "source": [
    "p"
   ]
  },
  {
   "cell_type": "code",
   "execution_count": 74,
   "id": "3fb567d2-da62-408a-8986-74bd2d729401",
   "metadata": {},
   "outputs": [
    {
     "ename": "ValueError",
     "evalue": "list.remove(x): x not in list",
     "output_type": "error",
     "traceback": [
      "\u001b[31m---------------------------------------------------------------------------\u001b[39m",
      "\u001b[31mValueError\u001b[39m                                Traceback (most recent call last)",
      "\u001b[36mCell\u001b[39m\u001b[36m \u001b[39m\u001b[32mIn[74]\u001b[39m\u001b[32m, line 1\u001b[39m\n\u001b[32m----> \u001b[39m\u001b[32m1\u001b[39m \u001b[43mp\u001b[49m\u001b[43m.\u001b[49m\u001b[43mremove\u001b[49m\u001b[43m(\u001b[49m\u001b[32;43m3\u001b[39;49m\u001b[43m)\u001b[49m\n\u001b[32m      2\u001b[39m p\n",
      "\u001b[31mValueError\u001b[39m: list.remove(x): x not in list"
     ]
    }
   ],
   "source": [
    "p.remove(3)\n",
    "p"
   ]
  },
  {
   "cell_type": "code",
   "execution_count": 75,
   "id": "a48c6cd6-85cf-4481-8371-a3f8471ab15c",
   "metadata": {},
   "outputs": [
    {
     "data": {
      "text/plain": [
       "[1, 2, 4, [3, 5, 6]]"
      ]
     },
     "execution_count": 75,
     "metadata": {},
     "output_type": "execute_result"
    }
   ],
   "source": [
    "p"
   ]
  },
  {
   "cell_type": "code",
   "execution_count": 76,
   "id": "31d304cf-b200-4e3c-aaf4-a275e58742e0",
   "metadata": {},
   "outputs": [
    {
     "data": {
      "text/plain": [
       "[1, 2, 4, [5, 6]]"
      ]
     },
     "execution_count": 76,
     "metadata": {},
     "output_type": "execute_result"
    }
   ],
   "source": [
    "p[3].remove(3)\n",
    "p"
   ]
  },
  {
   "cell_type": "code",
   "execution_count": 80,
   "id": "a9e8301d-3f25-4419-83b1-dadf39e86a63",
   "metadata": {},
   "outputs": [
    {
     "data": {
      "text/plain": [
       "[1, 2, 'nasrin', 'nasrin', 4, [5, 6]]"
      ]
     },
     "execution_count": 80,
     "metadata": {},
     "output_type": "execute_result"
    }
   ],
   "source": [
    "p.insert(2,\"nasrin\")\n",
    "p"
   ]
  },
  {
   "cell_type": "code",
   "execution_count": 85,
   "id": "a2df6023-6872-4f16-8edf-f5ecc8345ea0",
   "metadata": {},
   "outputs": [
    {
     "data": {
      "text/plain": [
       "'sr'"
      ]
     },
     "execution_count": 85,
     "metadata": {},
     "output_type": "execute_result"
    }
   ],
   "source": [
    "p[2][2:4]"
   ]
  },
  {
   "cell_type": "code",
   "execution_count": 86,
   "id": "f3deb798-6241-4550-ac45-9e598fea46aa",
   "metadata": {},
   "outputs": [
    {
     "data": {
      "text/plain": [
       "[0, 1, 2, 3, 5, 7, 7]"
      ]
     },
     "execution_count": 86,
     "metadata": {},
     "output_type": "execute_result"
    }
   ],
   "source": [
    "o=[5,7,2,3,0,7,1]\n",
    "o.sort()\n",
    "o"
   ]
  },
  {
   "cell_type": "code",
   "execution_count": 90,
   "id": "22e0b662-4e9e-4934-94c1-bea37e83e291",
   "metadata": {},
   "outputs": [
    {
     "data": {
      "text/plain": [
       "['n', 'a', 's', 'r', 'i', 'n']"
      ]
     },
     "execution_count": 90,
     "metadata": {},
     "output_type": "execute_result"
    }
   ],
   "source": [
    "l=[]\n",
    "l.extend(\"nasrin\")\n",
    "l"
   ]
  },
  {
   "cell_type": "code",
   "execution_count": 94,
   "id": "0380c82b-5567-40cd-b208-631b6798c4ae",
   "metadata": {},
   "outputs": [],
   "source": [
    "l.sort(reverse=True)"
   ]
  },
  {
   "cell_type": "code",
   "execution_count": 95,
   "id": "993174f7-9ad9-4bc9-907a-52ccd54be176",
   "metadata": {},
   "outputs": [
    {
     "data": {
      "text/plain": [
       "['s', 'r', 'n', 'n', 'i', 'a']"
      ]
     },
     "execution_count": 95,
     "metadata": {},
     "output_type": "execute_result"
    }
   ],
   "source": [
    "l"
   ]
  },
  {
   "cell_type": "code",
   "execution_count": 96,
   "id": "1142515c-4118-4398-afe6-a0665d269920",
   "metadata": {},
   "outputs": [
    {
     "data": {
      "text/plain": [
       "'nasrin'"
      ]
     },
     "execution_count": 96,
     "metadata": {},
     "output_type": "execute_result"
    }
   ],
   "source": [
    "p"
   ]
  },
  {
   "cell_type": "code",
   "execution_count": 98,
   "id": "df562e0f-353f-4cfe-86f3-33a06a3b286b",
   "metadata": {},
   "outputs": [
    {
     "data": {
      "text/plain": [
       "'pasrip'"
      ]
     },
     "execution_count": 98,
     "metadata": {},
     "output_type": "execute_result"
    }
   ],
   "source": [
    "p.replace('n','p')"
   ]
  },
  {
   "cell_type": "code",
   "execution_count": 99,
   "id": "17d1179e-2b30-417d-9bd0-cd8698f6d603",
   "metadata": {},
   "outputs": [
    {
     "data": {
      "text/plain": [
       "'nasrin'"
      ]
     },
     "execution_count": 99,
     "metadata": {},
     "output_type": "execute_result"
    }
   ],
   "source": [
    "p"
   ]
  },
  {
   "cell_type": "code",
   "execution_count": 101,
   "id": "2b7a14ee-f6a5-4fb9-92c2-6e47508c0e67",
   "metadata": {},
   "outputs": [
    {
     "data": {
      "text/plain": [
       "(1, 2, 3)"
      ]
     },
     "execution_count": 101,
     "metadata": {},
     "output_type": "execute_result"
    }
   ],
   "source": [
    "t=(1,2,3)\n",
    "t"
   ]
  },
  {
   "cell_type": "code",
   "execution_count": 103,
   "id": "33bbc0a5-535e-4193-bc97-6142210751c7",
   "metadata": {},
   "outputs": [
    {
     "data": {
      "text/plain": [
       "1"
      ]
     },
     "execution_count": 103,
     "metadata": {},
     "output_type": "execute_result"
    }
   ],
   "source": [
    "t.count(2)"
   ]
  },
  {
   "cell_type": "code",
   "execution_count": 106,
   "id": "b0c1052e-0474-4340-b5f0-ca79dc17ad64",
   "metadata": {},
   "outputs": [
    {
     "data": {
      "text/plain": [
       "set"
      ]
     },
     "execution_count": 106,
     "metadata": {},
     "output_type": "execute_result"
    }
   ],
   "source": [
    "s={1,}\n",
    "type(s)"
   ]
  },
  {
   "cell_type": "code",
   "execution_count": 107,
   "id": "2c6c1f93-08f5-4fba-b8df-ac0b2e267e95",
   "metadata": {},
   "outputs": [
    {
     "data": {
      "text/plain": [
       "{1, 2}"
      ]
     },
     "execution_count": 107,
     "metadata": {},
     "output_type": "execute_result"
    }
   ],
   "source": [
    "s={1,2,1,2,1,2,1,2,1,2,1,2,1}\n",
    "s"
   ]
  },
  {
   "cell_type": "code",
   "execution_count": 108,
   "id": "2cf3e96b-3936-4c9e-b039-b4c129e97284",
   "metadata": {},
   "outputs": [
    {
     "data": {
      "text/plain": [
       "'nasrin'"
      ]
     },
     "execution_count": 108,
     "metadata": {},
     "output_type": "execute_result"
    }
   ],
   "source": [
    "p"
   ]
  },
  {
   "cell_type": "code",
   "execution_count": 4,
   "id": "eda853d1-aea0-4061-a081-5018b2c18da2",
   "metadata": {},
   "outputs": [],
   "source": [
    "d={ 1:'kay',2:'pop',True:'nasrin'}"
   ]
  },
  {
   "cell_type": "code",
   "execution_count": 2,
   "id": "87416537-3da1-4606-92ac-25b005ebc925",
   "metadata": {},
   "outputs": [
    {
     "data": {
      "text/plain": [
       "{1: 'kay', 2: 'pop'}"
      ]
     },
     "execution_count": 2,
     "metadata": {},
     "output_type": "execute_result"
    }
   ],
   "source": [
    "d"
   ]
  },
  {
   "cell_type": "code",
   "execution_count": 5,
   "id": "4cb1cccb-3429-4376-af66-08bcc903cd16",
   "metadata": {},
   "outputs": [
    {
     "data": {
      "text/plain": [
       "{1: 'nasrin', 2: 'pop'}"
      ]
     },
     "execution_count": 5,
     "metadata": {},
     "output_type": "execute_result"
    }
   ],
   "source": [
    "d"
   ]
  },
  {
   "cell_type": "code",
   "execution_count": 6,
   "id": "68b6b95d-bea0-4c5c-9b55-00aad43dc4dd",
   "metadata": {},
   "outputs": [],
   "source": [
    "d={ 1:'kay',2:'pop',True:'nasrin'}"
   ]
  },
  {
   "cell_type": "code",
   "execution_count": 7,
   "id": "4e59eaaf-eae1-4296-9ef9-c1b6879df9aa",
   "metadata": {},
   "outputs": [
    {
     "data": {
      "text/plain": [
       "{1: 'nasrin', 2: 'pop'}"
      ]
     },
     "execution_count": 7,
     "metadata": {},
     "output_type": "execute_result"
    }
   ],
   "source": [
    "d"
   ]
  },
  {
   "cell_type": "code",
   "execution_count": 8,
   "id": "2030768b-d66f-49d5-9e86-22cfeab5b7af",
   "metadata": {},
   "outputs": [],
   "source": [
    "p={ 1:'kay',2:'pop',True:'nasrin'}"
   ]
  },
  {
   "cell_type": "code",
   "execution_count": 9,
   "id": "12c67135-647e-436b-9117-2ab6452b5f8e",
   "metadata": {},
   "outputs": [
    {
     "data": {
      "text/plain": [
       "{1: 'nasrin', 2: 'pop'}"
      ]
     },
     "execution_count": 9,
     "metadata": {},
     "output_type": "execute_result"
    }
   ],
   "source": [
    "p"
   ]
  },
  {
   "cell_type": "code",
   "execution_count": 1,
   "id": "4df6cd5c-5ad3-4843-a7d2-fd9003fdb2f0",
   "metadata": {},
   "outputs": [],
   "source": [
    "d={123:'ss','sds':'dfff',True:2442}"
   ]
  },
  {
   "cell_type": "code",
   "execution_count": 2,
   "id": "99805bee-7b0e-4e47-bab3-c7ab134003da",
   "metadata": {},
   "outputs": [
    {
     "data": {
      "text/plain": [
       "'ss'"
      ]
     },
     "execution_count": 2,
     "metadata": {},
     "output_type": "execute_result"
    }
   ],
   "source": [
    "d[123]"
   ]
  },
  {
   "cell_type": "code",
   "execution_count": 3,
   "id": "d6e2eeb7-fc55-4c19-9cec-62fd902158af",
   "metadata": {},
   "outputs": [
    {
     "data": {
      "text/plain": [
       "2442"
      ]
     },
     "execution_count": 3,
     "metadata": {},
     "output_type": "execute_result"
    }
   ],
   "source": [
    "d[1]"
   ]
  },
  {
   "cell_type": "code",
   "execution_count": 4,
   "id": "771d97f7-6456-4d7c-a315-ba7edb743d97",
   "metadata": {},
   "outputs": [
    {
     "data": {
      "text/plain": [
       "{1: 'nasrin', 2: 4553}"
      ]
     },
     "execution_count": 4,
     "metadata": {},
     "output_type": "execute_result"
    }
   ],
   "source": [
    "d1={1:'nas',2:4553,1:'nasrin'}\n",
    "d1"
   ]
  },
  {
   "cell_type": "code",
   "execution_count": 5,
   "id": "c9e9a552-8845-4355-968f-5423284cc326",
   "metadata": {},
   "outputs": [
    {
     "data": {
      "text/plain": [
       "2442"
      ]
     },
     "execution_count": 5,
     "metadata": {},
     "output_type": "execute_result"
    }
   ],
   "source": [
    "d[1]"
   ]
  },
  {
   "cell_type": "code",
   "execution_count": 6,
   "id": "051a2eb9-d198-4b1d-a87d-ef1fde73accb",
   "metadata": {},
   "outputs": [
    {
     "data": {
      "text/plain": [
       "'nasrin'"
      ]
     },
     "execution_count": 6,
     "metadata": {},
     "output_type": "execute_result"
    }
   ],
   "source": [
    "d1[1]"
   ]
  },
  {
   "cell_type": "code",
   "execution_count": 7,
   "id": "d99ce11e-6fe0-43f4-9c48-9141049c6818",
   "metadata": {},
   "outputs": [
    {
     "data": {
      "text/plain": [
       "{'company': 'pwskill', 'course': ['web', 'data', 'design']}"
      ]
     },
     "execution_count": 7,
     "metadata": {},
     "output_type": "execute_result"
    }
   ],
   "source": [
    "d={'company':'pwskill','course':['web','data','design']}\n",
    "d"
   ]
  },
  {
   "cell_type": "code",
   "execution_count": 8,
   "id": "128e0286-1040-4b96-b960-7a286fae17d3",
   "metadata": {},
   "outputs": [
    {
     "data": {
      "text/plain": [
       "'design'"
      ]
     },
     "execution_count": 8,
     "metadata": {},
     "output_type": "execute_result"
    }
   ],
   "source": [
    "d['course'][2]"
   ]
  },
  {
   "cell_type": "code",
   "execution_count": 9,
   "id": "27010fff-7f4a-4bd5-878d-7cc5fd354249",
   "metadata": {},
   "outputs": [
    {
     "data": {
      "text/plain": [
       "{'company': 'pwskill', 'course': ['web', 'data', 'design']}"
      ]
     },
     "execution_count": 9,
     "metadata": {},
     "output_type": "execute_result"
    }
   ],
   "source": [
    "d"
   ]
  },
  {
   "cell_type": "code",
   "execution_count": 10,
   "id": "39b3c577-7482-4e30-a346-ccefb033cbdc",
   "metadata": {},
   "outputs": [],
   "source": [
    "d['mentor']=['priya','kouko','popo']"
   ]
  },
  {
   "cell_type": "code",
   "execution_count": 11,
   "id": "fad4c316-c3dc-4bdc-8e2d-94d17ea73d74",
   "metadata": {},
   "outputs": [
    {
     "data": {
      "text/plain": [
       "{'company': 'pwskill',\n",
       " 'course': ['web', 'data', 'design'],\n",
       " 'mentor': ['priya', 'kouko', 'popo']}"
      ]
     },
     "execution_count": 11,
     "metadata": {},
     "output_type": "execute_result"
    }
   ],
   "source": [
    "d"
   ]
  },
  {
   "cell_type": "code",
   "execution_count": 12,
   "id": "e93a0243-5171-4ab3-9a89-1745b9140427",
   "metadata": {},
   "outputs": [
    {
     "data": {
      "text/plain": [
       "dict_keys(['company', 'course', 'mentor'])"
      ]
     },
     "execution_count": 12,
     "metadata": {},
     "output_type": "execute_result"
    }
   ],
   "source": [
    "d.keys()"
   ]
  },
  {
   "cell_type": "code",
   "execution_count": 13,
   "id": "0b054d5c-0226-4643-b7dc-e6cc6348b4b3",
   "metadata": {},
   "outputs": [
    {
     "data": {
      "text/plain": [
       "dict_values(['pwskill', ['web', 'data', 'design'], ['priya', 'kouko', 'popo']])"
      ]
     },
     "execution_count": 13,
     "metadata": {},
     "output_type": "execute_result"
    }
   ],
   "source": [
    "d.values()"
   ]
  },
  {
   "cell_type": "code",
   "execution_count": 14,
   "id": "b89d6ab2-05fb-494a-9bc0-8dcf4fab66f9",
   "metadata": {},
   "outputs": [
    {
     "data": {
      "text/plain": [
       "dict_items([('company', 'pwskill'), ('course', ['web', 'data', 'design']), ('mentor', ['priya', 'kouko', 'popo'])])"
      ]
     },
     "execution_count": 14,
     "metadata": {},
     "output_type": "execute_result"
    }
   ],
   "source": [
    "d.items()"
   ]
  },
  {
   "cell_type": "code",
   "execution_count": 24,
   "id": "76972963-786d-438d-a1a6-d4cb293ab87f",
   "metadata": {},
   "outputs": [
    {
     "data": {
      "text/plain": [
       "['NAS', 'PRA', 'SHY']"
      ]
     },
     "execution_count": 24,
     "metadata": {},
     "output_type": "execute_result"
    }
   ],
   "source": [
    "l=['nas','pra','shy']\n",
    "l1=[]\n",
    "for i in l:\n",
    "   l1.append(i.upper())\n",
    "l1  \n"
   ]
  },
  {
   "cell_type": "code",
   "execution_count": 23,
   "id": "3e8c6321-5bd7-451b-b3e4-0ea01a44579a",
   "metadata": {},
   "outputs": [
    {
     "data": {
      "text/plain": [
       "'KJH'"
      ]
     },
     "execution_count": 23,
     "metadata": {},
     "output_type": "execute_result"
    }
   ],
   "source": [
    "p='kjh'\n",
    "p.upper()"
   ]
  },
  {
   "cell_type": "code",
   "execution_count": 33,
   "id": "0e38b780-2b9f-4ca3-ba3b-81a30ef6fb21",
   "metadata": {},
   "outputs": [
    {
     "name": "stdout",
     "output_type": "stream",
     "text": [
      "[1, 2, 3]\n",
      "['gfg', 'gg', 'hh']\n"
     ]
    }
   ],
   "source": [
    "l=[1,2,3,'gfg','gg','hh']\n",
    "l1=[]\n",
    "l2=[]\n",
    "for i in l:\n",
    "    if type(i) == int:\n",
    "        l1.append(i)\n",
    "    else:\n",
    "        l2.append(i)\n",
    "\n",
    "print(l1)\n",
    "print(l2)\n",
    "\n"
   ]
  },
  {
   "cell_type": "markdown",
   "id": "011247f3-a2f1-42c2-9323-0c384a502931",
   "metadata": {},
   "source": [
    "seperate value and keys from dict"
   ]
  },
  {
   "cell_type": "code",
   "execution_count": 8,
   "id": "46ce3095-40b8-49a4-8b4e-0d8c478f54d7",
   "metadata": {},
   "outputs": [
    {
     "name": "stdout",
     "output_type": "stream",
     "text": [
      "keys is  [1, 2, 3]\n",
      "values is ['nasrin', 'prashant', 'prity']\n"
     ]
    }
   ],
   "source": [
    "dict={1: 'nasrin',2:'prashant',3:'prity'}\n",
    "key=[]\n",
    "value=[]\n",
    "for item in dict.items():\n",
    "    key.append(item[0]),value.append(item[1])\n",
    "print('keys is ',key)\n",
    "print('values is',value)"
   ]
  },
  {
   "cell_type": "code",
   "execution_count": null,
   "id": "5890abfb-8342-4261-87cc-ff0a74bcd5f0",
   "metadata": {},
   "outputs": [],
   "source": []
  },
  {
   "cell_type": "code",
   "execution_count": null,
   "id": "a7f9d0e4-8ec4-46cb-a605-cf1b16691967",
   "metadata": {},
   "outputs": [],
   "source": []
  },
  {
   "cell_type": "code",
   "execution_count": null,
   "id": "e4d34a2e-d022-480a-9fab-9e2880231eee",
   "metadata": {},
   "outputs": [],
   "source": []
  },
  {
   "cell_type": "code",
   "execution_count": null,
   "id": "ded67bb3-d851-43bc-9fb5-43d9d94c9624",
   "metadata": {},
   "outputs": [],
   "source": []
  }
 ],
 "metadata": {
  "kernelspec": {
   "display_name": "Python 3 (ipykernel)",
   "language": "python",
   "name": "python3"
  },
  "language_info": {
   "codemirror_mode": {
    "name": "ipython",
    "version": 3
   },
   "file_extension": ".py",
   "mimetype": "text/x-python",
   "name": "python",
   "nbconvert_exporter": "python",
   "pygments_lexer": "ipython3",
   "version": "3.13.5"
  }
 },
 "nbformat": 4,
 "nbformat_minor": 5
}
