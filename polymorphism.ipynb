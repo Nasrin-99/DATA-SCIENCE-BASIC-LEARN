{
 "cells": [
  {
   "cell_type": "code",
   "execution_count": 2,
   "id": "5a405315-887d-4be6-acc8-3ad38448e1bc",
   "metadata": {},
   "outputs": [
    {
     "data": {
      "text/plain": [
       "7"
      ]
     },
     "execution_count": 2,
     "metadata": {},
     "output_type": "execute_result"
    }
   ],
   "source": [
    "def test(a,b):\n",
    "    return a+b\n",
    "test(3,4)"
   ]
  },
  {
   "cell_type": "code",
   "execution_count": 4,
   "id": "668c2314-1cb4-4112-bcbf-37bba07693f3",
   "metadata": {},
   "outputs": [
    {
     "data": {
      "text/plain": [
       "'nasrin khatun'"
      ]
     },
     "execution_count": 4,
     "metadata": {},
     "output_type": "execute_result"
    }
   ],
   "source": [
    "test('nasrin',' khatun')"
   ]
  },
  {
   "cell_type": "code",
   "execution_count": 5,
   "id": "8eed1a75-ae4a-42cb-9570-ed5ef3f10e8b",
   "metadata": {},
   "outputs": [
    {
     "data": {
      "text/plain": [
       "[1, 2, 3, 5, 6, 7]"
      ]
     },
     "execution_count": 5,
     "metadata": {},
     "output_type": "execute_result"
    }
   ],
   "source": [
    "test([1,2,3],[5,6,7])"
   ]
  },
  {
   "cell_type": "markdown",
   "id": "59820e5d-00c7-4e61-a184-ab97d0b5e6a9",
   "metadata": {},
   "source": [
    "one function or class different bebhaorer of diierent place"
   ]
  },
  {
   "cell_type": "code",
   "execution_count": 7,
   "id": "12e30c08-3117-4882-b652-af33b53298e1",
   "metadata": {},
   "outputs": [
    {
     "name": "stdout",
     "output_type": "stream",
     "text": [
      "this is my data sicence syllabus\n",
      "this is my web dev syllabus\n"
     ]
    }
   ],
   "source": [
    "class data_science:\n",
    "    def syllabus(self):\n",
    "        print(\"this is my data sicence syllabus\")\n",
    "class web_dev:\n",
    "    def syllabus(self):\n",
    "        print(\"this is my web dev syllabus\")\n",
    "def class_percer(class_object):\n",
    "    for i in class_object:\n",
    "        i.syllabus()\n",
    "data_science = data_science() #object\n",
    "web_dev= web_dev()\n",
    "class_object=[data_science,web_dev]\n",
    "class_percer(class_object)"
   ]
  },
  {
   "cell_type": "code",
   "execution_count": null,
   "id": "8bd6bb4e-ac6f-4b98-97aa-e4675a6c2321",
   "metadata": {},
   "outputs": [],
   "source": []
  }
 ],
 "metadata": {
  "kernelspec": {
   "display_name": "Python 3 (ipykernel)",
   "language": "python",
   "name": "python3"
  },
  "language_info": {
   "codemirror_mode": {
    "name": "ipython",
    "version": 3
   },
   "file_extension": ".py",
   "mimetype": "text/x-python",
   "name": "python",
   "nbconvert_exporter": "python",
   "pygments_lexer": "ipython3",
   "version": "3.13.5"
  }
 },
 "nbformat": 4,
 "nbformat_minor": 5
}
