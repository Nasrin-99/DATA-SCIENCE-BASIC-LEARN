{
 "cells": [
  {
   "cell_type": "code",
   "execution_count": 16,
   "id": "1476b22e-51cc-4b15-a8fc-fd1d579354f1",
   "metadata": {},
   "outputs": [],
   "source": [
    "class test :\n",
    "    def __init__(self,a,b):\n",
    "        self.a=a\n",
    "        self.b=b\n",
    "t=test(25,23)\n"
   ]
  },
  {
   "cell_type": "code",
   "execution_count": 17,
   "id": "5a09a055-51b3-47dc-a2ab-b418ad004f8d",
   "metadata": {},
   "outputs": [
    {
     "data": {
      "text/plain": [
       "25"
      ]
     },
     "execution_count": 17,
     "metadata": {},
     "output_type": "execute_result"
    }
   ],
   "source": [
    "t.a"
   ]
  },
  {
   "cell_type": "code",
   "execution_count": 18,
   "id": "192b5564-ab05-4b33-be67-50ec7a3dc621",
   "metadata": {},
   "outputs": [],
   "source": [
    "t.a=4543"
   ]
  },
  {
   "cell_type": "code",
   "execution_count": 19,
   "id": "2cd42e14-3bbb-444b-8648-b02754730380",
   "metadata": {},
   "outputs": [
    {
     "data": {
      "text/plain": [
       "4543"
      ]
     },
     "execution_count": 19,
     "metadata": {},
     "output_type": "execute_result"
    }
   ],
   "source": [
    "t.a  #over write it\n"
   ]
  },
  {
   "cell_type": "code",
   "execution_count": 20,
   "id": "0ebbe650-71bb-485a-b606-3b671a65753e",
   "metadata": {},
   "outputs": [
    {
     "data": {
      "text/plain": [
       "2021"
      ]
     },
     "execution_count": 20,
     "metadata": {},
     "output_type": "execute_result"
    }
   ],
   "source": [
    "class car:\n",
    "    def __init__(self,year,mark,model,speed):\n",
    "        self.__year=year\n",
    "        self.__mark=mark\n",
    "        self.__model=model \n",
    "        self.__speed=0 #by defult 0 set kore rake chi\n",
    "\n",
    "#directely koi variable ke    access korte perbo na tai \n",
    "c=car(2021,'toy','innova',12)\n",
    "c._car__year"
   ]
  },
  {
   "cell_type": "code",
   "execution_count": 21,
   "id": "50d6882f-5792-47cf-a241-40c0301f4501",
   "metadata": {},
   "outputs": [],
   "source": [
    "c=car(2021,'toy','innova',12)"
   ]
  },
  {
   "cell_type": "code",
   "execution_count": 22,
   "id": "ec989606-f9ea-4aa6-aae4-2c3c7f01ca4e",
   "metadata": {},
   "outputs": [
    {
     "ename": "AttributeError",
     "evalue": "'car' object has no attribute 'year'",
     "output_type": "error",
     "traceback": [
      "\u001b[31m---------------------------------------------------------------------------\u001b[39m",
      "\u001b[31mAttributeError\u001b[39m                            Traceback (most recent call last)",
      "\u001b[36mCell\u001b[39m\u001b[36m \u001b[39m\u001b[32mIn[22]\u001b[39m\u001b[32m, line 1\u001b[39m\n\u001b[32m----> \u001b[39m\u001b[32m1\u001b[39m \u001b[43mc\u001b[49m\u001b[43m.\u001b[49m\u001b[43myear\u001b[49m\n",
      "\u001b[31mAttributeError\u001b[39m: 'car' object has no attribute 'year'"
     ]
    }
   ],
   "source": [
    "c.year"
   ]
  },
  {
   "cell_type": "code",
   "execution_count": null,
   "id": "7345b5f6-fa2c-4ce0-9b8f-a04d4db889bd",
   "metadata": {},
   "outputs": [],
   "source": [
    "c.__year"
   ]
  },
  {
   "cell_type": "code",
   "execution_count": null,
   "id": "aec4a5e4-34bf-4bf2-ac09-f16ea4d7e5f5",
   "metadata": {},
   "outputs": [],
   "source": [
    "c._car__year"
   ]
  },
  {
   "cell_type": "code",
   "execution_count": 28,
   "id": "2b5108c1-56e2-4e0e-af50-a3e365781b9d",
   "metadata": {},
   "outputs": [],
   "source": [
    "#set and get the speed\n",
    "class car:\n",
    "    def __init__(self,year,mark,model,speed):\n",
    "        self.__year=year\n",
    "        self.__mark=mark\n",
    "        self.__model=model \n",
    "        self.__speed=0 #by defult 0 set kore rake chi\n",
    "    def set_speed(self,speed):\n",
    "        self.__speed=0 if speed<0 else speed\n",
    "    def get_speed(self):\n",
    "        return self.__speed\n",
    "\n",
    "#directely koi variable ke    access korte perbo na tai \n",
    "c=car(2021,'toy','innova',12)\n",
    "#c._car__year"
   ]
  },
  {
   "cell_type": "code",
   "execution_count": 29,
   "id": "d04bc856-c3c2-4d75-933f-58b67394eb47",
   "metadata": {},
   "outputs": [],
   "source": [
    "c.set_speed(-54)"
   ]
  },
  {
   "cell_type": "code",
   "execution_count": 30,
   "id": "0b92d724-a96a-413f-810b-808211067eaf",
   "metadata": {},
   "outputs": [
    {
     "data": {
      "text/plain": [
       "0"
      ]
     },
     "execution_count": 30,
     "metadata": {},
     "output_type": "execute_result"
    }
   ],
   "source": [
    "c.get_speed()"
   ]
  },
  {
   "cell_type": "code",
   "execution_count": 31,
   "id": "eff5fb0b-000b-4527-9d82-67e88237c0e5",
   "metadata": {},
   "outputs": [],
   "source": [
    "c.set_speed(54)"
   ]
  },
  {
   "cell_type": "code",
   "execution_count": 32,
   "id": "8d736269-9e03-45a9-bdb3-434780ef86b2",
   "metadata": {},
   "outputs": [
    {
     "data": {
      "text/plain": [
       "54"
      ]
     },
     "execution_count": 32,
     "metadata": {},
     "output_type": "execute_result"
    }
   ],
   "source": [
    "c.get_speed()"
   ]
  },
  {
   "cell_type": "code",
   "execution_count": 33,
   "id": "bceb1c79-6fa4-45b6-b89a-9687dfb9111c",
   "metadata": {},
   "outputs": [],
   "source": [
    "                                                  #banking system"
   ]
  },
  {
   "cell_type": "code",
   "execution_count": 36,
   "id": "ee0e4b9f-0b86-4a49-9cdd-5dbaf8e6feef",
   "metadata": {},
   "outputs": [],
   "source": [
    "class bank_account:\n",
    "    def __init__(self,balance):\n",
    "        self.__balance = balance\n",
    "    def deposite(self,amount):\n",
    "        self.__balance = self.__balance + amount\n",
    "    def withdaw(self,amount):\n",
    "        if self.__balance >= amount:\n",
    "            self.__balance =  self.__balance - amount\n",
    "            return True\n",
    "        else:\n",
    "            return False\n",
    "    def get_balance(self):\n",
    "        return self.__balance\n",
    "    "
   ]
  },
  {
   "cell_type": "code",
   "execution_count": 37,
   "id": "8bedc356-38c2-4d6b-8adc-ed86b2c3b71e",
   "metadata": {},
   "outputs": [],
   "source": [
    "nasrin=bank_account(1000)"
   ]
  },
  {
   "cell_type": "code",
   "execution_count": 38,
   "id": "c1fd99f5-4ab4-47ef-9bc6-79b4526e97c6",
   "metadata": {},
   "outputs": [
    {
     "data": {
      "text/plain": [
       "1000"
      ]
     },
     "execution_count": 38,
     "metadata": {},
     "output_type": "execute_result"
    }
   ],
   "source": [
    "nasrin.get_balance()"
   ]
  },
  {
   "cell_type": "code",
   "execution_count": 39,
   "id": "f034d5b7-887f-4b0e-a6a3-4d6f49c59e80",
   "metadata": {},
   "outputs": [],
   "source": [
    "nasrin.deposite(100000)"
   ]
  },
  {
   "cell_type": "code",
   "execution_count": 40,
   "id": "3b7657c6-80a9-4113-81fe-03ec25d0941b",
   "metadata": {},
   "outputs": [
    {
     "data": {
      "text/plain": [
       "101000"
      ]
     },
     "execution_count": 40,
     "metadata": {},
     "output_type": "execute_result"
    }
   ],
   "source": [
    "nasrin.get_balance()"
   ]
  },
  {
   "cell_type": "code",
   "execution_count": 41,
   "id": "8ca3ecca-b896-4cc9-9391-1cacec29c9d0",
   "metadata": {},
   "outputs": [
    {
     "data": {
      "text/plain": [
       "True"
      ]
     },
     "execution_count": 41,
     "metadata": {},
     "output_type": "execute_result"
    }
   ],
   "source": [
    "nasrin.withdaw(20000)"
   ]
  },
  {
   "cell_type": "code",
   "execution_count": 42,
   "id": "efea2af0-837e-41bf-aef7-2ec9745d829e",
   "metadata": {},
   "outputs": [
    {
     "data": {
      "text/plain": [
       "81000"
      ]
     },
     "execution_count": 42,
     "metadata": {},
     "output_type": "execute_result"
    }
   ],
   "source": [
    "nasrin.get_balance()"
   ]
  },
  {
   "cell_type": "code",
   "execution_count": null,
   "id": "fec1a733-61d7-4863-a7e1-d9b1b408e109",
   "metadata": {},
   "outputs": [],
   "source": []
  }
 ],
 "metadata": {
  "kernelspec": {
   "display_name": "Python 3 (ipykernel)",
   "language": "python",
   "name": "python3"
  },
  "language_info": {
   "codemirror_mode": {
    "name": "ipython",
    "version": 3
   },
   "file_extension": ".py",
   "mimetype": "text/x-python",
   "name": "python",
   "nbconvert_exporter": "python",
   "pygments_lexer": "ipython3",
   "version": "3.13.5"
  }
 },
 "nbformat": 4,
 "nbformat_minor": 5
}
