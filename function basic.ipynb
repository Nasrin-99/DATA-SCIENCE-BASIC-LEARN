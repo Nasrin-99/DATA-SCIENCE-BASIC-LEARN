{
 "cells": [
  {
   "cell_type": "markdown",
   "id": "d96b28ae-470d-45a9-89d8-8ffbeab608b6",
   "metadata": {},
   "source": [
    "function is block of code which perform a specifi task\n",
    "function is two type inbuld and user defined\n",
    "inbuld fun: print(),len(),type()......etc\n",
    "uder define is :"
   ]
  },
  {
   "cell_type": "code",
   "execution_count": 1,
   "id": "31dc1e6f-7171-4630-8d7a-8e3f85da7cfa",
   "metadata": {},
   "outputs": [],
   "source": [
    "def test():\n",
    "    pass"
   ]
  },
  {
   "cell_type": "code",
   "execution_count": 2,
   "id": "ceb19b38-2f19-4e69-afa6-39b2ffb3e944",
   "metadata": {},
   "outputs": [],
   "source": [
    "def test1():\n",
    "    print(\"this is my 1st function in python\")"
   ]
  },
  {
   "cell_type": "code",
   "execution_count": 3,
   "id": "12edfda1-e63c-4b68-9fbc-c353b404a498",
   "metadata": {},
   "outputs": [
    {
     "name": "stdout",
     "output_type": "stream",
     "text": [
      "this is my 1st function in python\n"
     ]
    }
   ],
   "source": [
    "#call the functin\n",
    "test1()"
   ]
  },
  {
   "cell_type": "code",
   "execution_count": 4,
   "id": "d4cb8d70-917f-4e12-a092-ce6a19d1cc5f",
   "metadata": {},
   "outputs": [
    {
     "name": "stdout",
     "output_type": "stream",
     "text": [
      "h\n"
     ]
    },
    {
     "data": {
      "text/plain": [
       "NoneType"
      ]
     },
     "execution_count": 4,
     "metadata": {},
     "output_type": "execute_result"
    }
   ],
   "source": [
    "type(print(\"h\"))"
   ]
  },
  {
   "cell_type": "code",
   "execution_count": 5,
   "id": "c5889ef3-a2d3-4eaa-a780-d51ce8b73263",
   "metadata": {},
   "outputs": [
    {
     "data": {
      "text/plain": [
       "'this is my 1st function in python'"
      ]
     },
     "execution_count": 5,
     "metadata": {},
     "output_type": "execute_result"
    }
   ],
   "source": [
    "def test2():\n",
    "    return \"this is my 1st function in python\"\n",
    "test2()\n"
   ]
  },
  {
   "cell_type": "code",
   "execution_count": 8,
   "id": "9237455d-e155-41c4-925a-dba9409c0470",
   "metadata": {},
   "outputs": [
    {
     "data": {
      "text/plain": [
       "'this is my 1st function in python nasrin'"
      ]
     },
     "execution_count": 8,
     "metadata": {},
     "output_type": "execute_result"
    }
   ],
   "source": [
    "test2()+\" nasrin\""
   ]
  },
  {
   "cell_type": "code",
   "execution_count": 9,
   "id": "e1bda0f3-7a11-4764-bd7f-bb6ee9aa3bb0",
   "metadata": {},
   "outputs": [],
   "source": [
    "def test3():\n",
    "    return \"nas\",23,5.6,[1,2,3]"
   ]
  },
  {
   "cell_type": "code",
   "execution_count": 10,
   "id": "6f87bcb6-42f8-4d03-8907-3e27d4ca0305",
   "metadata": {},
   "outputs": [
    {
     "data": {
      "text/plain": [
       "('nas', 23, 5.6, [1, 2, 3])"
      ]
     },
     "execution_count": 10,
     "metadata": {},
     "output_type": "execute_result"
    }
   ],
   "source": [
    "test3()"
   ]
  },
  {
   "cell_type": "code",
   "execution_count": 11,
   "id": "05d2d277-ad66-4d05-bb3e-bd02afae69c3",
   "metadata": {},
   "outputs": [],
   "source": [
    "a,b,c,d=test3()"
   ]
  },
  {
   "cell_type": "code",
   "execution_count": 12,
   "id": "53862637-1f57-4fa8-b249-0e351109c4c5",
   "metadata": {},
   "outputs": [
    {
     "data": {
      "text/plain": [
       "'nas'"
      ]
     },
     "execution_count": 12,
     "metadata": {},
     "output_type": "execute_result"
    }
   ],
   "source": [
    "a\n"
   ]
  },
  {
   "cell_type": "code",
   "execution_count": 13,
   "id": "6119b1ce-280c-4609-9078-7057be08bade",
   "metadata": {},
   "outputs": [
    {
     "data": {
      "text/plain": [
       "23"
      ]
     },
     "execution_count": 13,
     "metadata": {},
     "output_type": "execute_result"
    }
   ],
   "source": [
    "b"
   ]
  },
  {
   "cell_type": "code",
   "execution_count": 14,
   "id": "70b0bbe3-481a-4d04-939f-f99f75a7050b",
   "metadata": {},
   "outputs": [
    {
     "data": {
      "text/plain": [
       "5.6"
      ]
     },
     "execution_count": 14,
     "metadata": {},
     "output_type": "execute_result"
    }
   ],
   "source": [
    "c"
   ]
  },
  {
   "cell_type": "code",
   "execution_count": 15,
   "id": "e0c11276-3cdd-4eb0-80c5-ca04c7f927a1",
   "metadata": {},
   "outputs": [
    {
     "data": {
      "text/plain": [
       "[1, 2, 3]"
      ]
     },
     "execution_count": 15,
     "metadata": {},
     "output_type": "execute_result"
    }
   ],
   "source": [
    "d"
   ]
  },
  {
   "cell_type": "code",
   "execution_count": 1,
   "id": "081d3e4a-d333-4e46-9374-8314214cb117",
   "metadata": {},
   "outputs": [
    {
     "data": {
      "text/plain": [
       "2.666666666666667"
      ]
     },
     "execution_count": 1,
     "metadata": {},
     "output_type": "execute_result"
    }
   ],
   "source": [
    "def test4():\n",
    "    a=5/3+1\n",
    "    return a\n",
    "test4()"
   ]
  },
  {
   "cell_type": "code",
   "execution_count": 2,
   "id": "26983b3f-4dc9-47c4-b0a9-82a2fdb90c5b",
   "metadata": {},
   "outputs": [
    {
     "name": "stdin",
     "output_type": "stream",
     "text": [
      " 3\n",
      " 5\n"
     ]
    },
    {
     "data": {
      "text/plain": [
       "8"
      ]
     },
     "execution_count": 2,
     "metadata": {},
     "output_type": "execute_result"
    }
   ],
   "source": [
    "def test5(a,b):\n",
    "    return a+b\n",
    "x=int(input())\n",
    "y=int(input())\n",
    "test5(x,y)"
   ]
  },
  {
   "cell_type": "code",
   "execution_count": 4,
   "id": "2ec0e569-c658-4443-870c-371512bcc468",
   "metadata": {},
   "outputs": [
    {
     "name": "stdin",
     "output_type": "stream",
     "text": [
      " 5.6\n",
      " 7.2\n"
     ]
    },
    {
     "data": {
      "text/plain": [
       "'5.67.2'"
      ]
     },
     "execution_count": 4,
     "metadata": {},
     "output_type": "execute_result"
    }
   ],
   "source": [
    "def test5(a,b):\n",
    "    return a+b\n",
    "x=(input())\n",
    "y=(input())\n",
    "test5(x,y) #concatanit of two list"
   ]
  },
  {
   "cell_type": "code",
   "execution_count": 5,
   "id": "18c869dc-fd47-4041-abe7-df5a3627161b",
   "metadata": {},
   "outputs": [],
   "source": [
    "l=[1,2,3,4,'hfg','uyttttt',[1,2,3,4]]"
   ]
  },
  {
   "cell_type": "code",
   "execution_count": 6,
   "id": "070c9575-bf07-46d2-8f7c-a6339949680d",
   "metadata": {},
   "outputs": [
    {
     "data": {
      "text/plain": [
       "[1, 2, 3, 4, 'hfg', 'uyttttt', [1, 2, 3, 4]]"
      ]
     },
     "execution_count": 6,
     "metadata": {},
     "output_type": "execute_result"
    }
   ],
   "source": [
    "l"
   ]
  },
  {
   "cell_type": "code",
   "execution_count": 14,
   "id": "a63769f8-8e9d-41c3-bd7e-e15686a6d860",
   "metadata": {},
   "outputs": [],
   "source": [
    "def test6(l):\n",
    "    l1=[]\n",
    "    for i in l:\n",
    "        if type(i)==int:\n",
    "            l1.append(i)\n",
    "    return l1\n",
    "\n",
    "\n",
    "    \n",
    "    "
   ]
  },
  {
   "cell_type": "code",
   "execution_count": 15,
   "id": "32b10364-e14c-4fe5-8722-e425f58c856b",
   "metadata": {},
   "outputs": [
    {
     "data": {
      "text/plain": [
       "[1, 2, 3, 4]"
      ]
     },
     "execution_count": 15,
     "metadata": {},
     "output_type": "execute_result"
    }
   ],
   "source": [
    "test6(l)"
   ]
  },
  {
   "cell_type": "code",
   "execution_count": 20,
   "id": "46c32030-c56e-4ca6-b925-df2ef2765f7b",
   "metadata": {},
   "outputs": [],
   "source": [
    "def test7(a):\n",
    "    l1=[]\n",
    "    for i in a:\n",
    "        if type(i) == list:\n",
    "              for j in i:\n",
    "                   l1.append(j)\n",
    "        else:\n",
    "            if type(i)== int or type(i)== float:\n",
    "                l1.append(i)\n",
    "    return l1"
   ]
  },
  {
   "cell_type": "code",
   "execution_count": 21,
   "id": "c68a18be-db3d-459a-9dfd-a5e96a1b9d4f",
   "metadata": {},
   "outputs": [
    {
     "data": {
      "text/plain": [
       "[1, 2, 3, 4, 1, 2, 3, 4]"
      ]
     },
     "execution_count": 21,
     "metadata": {},
     "output_type": "execute_result"
    }
   ],
   "source": [
    "test7(l)"
   ]
  },
  {
   "cell_type": "markdown",
   "id": "acf5533b-f9ba-4f75-b01a-0c843f2f84d5",
   "metadata": {},
   "source": [
    "function docstring"
   ]
  },
  {
   "cell_type": "code",
   "execution_count": 22,
   "id": "e6c55078-ff88-4056-9379-06653263b2c8",
   "metadata": {},
   "outputs": [],
   "source": [
    "def test7(a):\n",
    "    \"\"\" this is my function for numeric for list\"\"\"\n",
    "    l1=[]\n",
    "    for i in a:\n",
    "        if type(i) == list:\n",
    "              for j in i:\n",
    "                   l1.append(j)\n",
    "        else:\n",
    "            if type(i)== int or type(i)== float:\n",
    "                l1.append(i)\n",
    "    return l1"
   ]
  },
  {
   "cell_type": "code",
   "execution_count": 24,
   "id": "db12cbc4-54b7-4d57-bf41-041e03c78bc5",
   "metadata": {},
   "outputs": [
    {
     "data": {
      "text/plain": [
       "[1, 2, 3, 4, 1, 2, 3, 4]"
      ]
     },
     "execution_count": 24,
     "metadata": {},
     "output_type": "execute_result"
    }
   ],
   "source": [
    "test7(l)"
   ]
  },
  {
   "cell_type": "markdown",
   "id": "814669cb-9442-4cc3-b26e-136e6a64c114",
   "metadata": {},
   "source": [
    "user give paramiter "
   ]
  },
  {
   "cell_type": "code",
   "execution_count": 26,
   "id": "aed086ba-2b7b-4236-8860-72a658e370e6",
   "metadata": {},
   "outputs": [
    {
     "data": {
      "text/plain": [
       "tuple"
      ]
     },
     "execution_count": 26,
     "metadata": {},
     "output_type": "execute_result"
    }
   ],
   "source": [
    "def test8(*args):\n",
    "    return args\n",
    "type(test8())\n",
    "    "
   ]
  },
  {
   "cell_type": "code",
   "execution_count": 28,
   "id": "673e948f-fe79-483d-bda5-6e53cd4511e6",
   "metadata": {},
   "outputs": [
    {
     "data": {
      "text/plain": [
       "(1, 2, 3, 4, 'fdf', 'gff')"
      ]
     },
     "execution_count": 28,
     "metadata": {},
     "output_type": "execute_result"
    }
   ],
   "source": [
    "test8(1,2,3,4,'fdf','gff')"
   ]
  },
  {
   "cell_type": "code",
   "execution_count": 31,
   "id": "14022691-8b2b-4c44-baf9-8282a33ff91f",
   "metadata": {},
   "outputs": [
    {
     "data": {
      "text/plain": [
       "((1, 2, 3, 4), 34)"
      ]
     },
     "execution_count": 31,
     "metadata": {},
     "output_type": "execute_result"
    }
   ],
   "source": [
    "def test9(*ares,a):\n",
    "    return ares,a\n",
    "    \n",
    "test9(1,2,3,4,a=34)"
   ]
  },
  {
   "cell_type": "code",
   "execution_count": 33,
   "id": "d1241d20-663e-4253-8195-6f7591c5b931",
   "metadata": {},
   "outputs": [],
   "source": [
    "def test10(a,b,c=2,d=5):\n",
    "    return a,b,c,d"
   ]
  },
  {
   "cell_type": "code",
   "execution_count": 34,
   "id": "f33b5d03-715f-4636-8085-32f074e60534",
   "metadata": {},
   "outputs": [
    {
     "data": {
      "text/plain": [
       "(1, 2, 2, 5)"
      ]
     },
     "execution_count": 34,
     "metadata": {},
     "output_type": "execute_result"
    }
   ],
   "source": [
    "test10(1,2)"
   ]
  },
  {
   "cell_type": "code",
   "execution_count": 35,
   "id": "6552a304-a9a2-4a5a-a38f-f84677c52d31",
   "metadata": {},
   "outputs": [
    {
     "data": {
      "text/plain": [
       "(2, 4, 54, 5)"
      ]
     },
     "execution_count": 35,
     "metadata": {},
     "output_type": "execute_result"
    }
   ],
   "source": [
    "test10(2,4,c=54) #over write"
   ]
  },
  {
   "cell_type": "code",
   "execution_count": 37,
   "id": "2aea1ae7-5a9a-4d12-be78-ead08019a6b0",
   "metadata": {},
   "outputs": [],
   "source": [
    "#key word args\n",
    "# ** mane dobule value dict valu \n",
    "def test11(**kwargs):\n",
    "    return kwargs\n",
    "\n"
   ]
  },
  {
   "cell_type": "code",
   "execution_count": 38,
   "id": "6e74afda-0f1a-4f78-90d3-2643d08c4922",
   "metadata": {},
   "outputs": [
    {
     "data": {
      "text/plain": [
       "dict"
      ]
     },
     "execution_count": 38,
     "metadata": {},
     "output_type": "execute_result"
    }
   ],
   "source": [
    "type(test11())"
   ]
  },
  {
   "cell_type": "code",
   "execution_count": 39,
   "id": "4e297a34-81c6-4af0-8b64-0259bbb53346",
   "metadata": {},
   "outputs": [
    {
     "data": {
      "text/plain": [
       "{}"
      ]
     },
     "execution_count": 39,
     "metadata": {},
     "output_type": "execute_result"
    }
   ],
   "source": [
    "test11()"
   ]
  },
  {
   "cell_type": "code",
   "execution_count": 40,
   "id": "2a35492c-a72c-4415-8823-0b792141d2d3",
   "metadata": {},
   "outputs": [
    {
     "data": {
      "text/plain": [
       "{'a': [1, 2, 3, 4], 'b': 'nasrin', 'c': {1, 2, 3}}"
      ]
     },
     "execution_count": 40,
     "metadata": {},
     "output_type": "execute_result"
    }
   ],
   "source": [
    "test11( a=[1,2,3,4],b='nasrin',c={1,2,3})"
   ]
  },
  {
   "cell_type": "code",
   "execution_count": null,
   "id": "75594fb0-e555-45f1-ab5b-0bd21d3be318",
   "metadata": {},
   "outputs": [],
   "source": []
  }
 ],
 "metadata": {
  "kernelspec": {
   "display_name": "Python 3 (ipykernel)",
   "language": "python",
   "name": "python3"
  },
  "language_info": {
   "codemirror_mode": {
    "name": "ipython",
    "version": 3
   },
   "file_extension": ".py",
   "mimetype": "text/x-python",
   "name": "python",
   "nbconvert_exporter": "python",
   "pygments_lexer": "ipython3",
   "version": "3.13.5"
  }
 },
 "nbformat": 4,
 "nbformat_minor": 5
}
