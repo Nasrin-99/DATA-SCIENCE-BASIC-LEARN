{
 "cells": [
  {
   "cell_type": "code",
   "execution_count": 23,
   "id": "bd6aa0ab-798e-4ece-b286-324a0fe439be",
   "metadata": {},
   "outputs": [],
   "source": [
    "import abc\n",
    "class pwskill:\n",
    "    @abc.abstractmethod\n",
    "    def student_detail(self):\n",
    "        pass\n",
    "              \n",
    "    @abc.abstractmethod\n",
    "    def student_assiment(self):\n",
    "        pass\n",
    "             \n",
    "    @abc.abstractmethod\n",
    "    def student_marks(self):\n",
    "        pass\n",
    "             \n",
    "\n",
    "        "
   ]
  },
  {
   "cell_type": "code",
   "execution_count": 24,
   "id": "6094654b-5a3d-403b-ba44-a7054119d416",
   "metadata": {},
   "outputs": [],
   "source": [
    "class  student_info(pwskill):\n",
    "    def student_detail(self):\n",
    "        return \"this is my pen\"\n",
    "    def student_assiment(self):\n",
    "        return \"this is nas\"\n",
    "    "
   ]
  },
  {
   "cell_type": "code",
   "execution_count": 25,
   "id": "566d2d13-b0c6-4db5-9c8c-3dcb49fd5fd7",
   "metadata": {},
   "outputs": [],
   "source": [
    "class  data_science(pwskill):\n",
    "    def student_detail(self):\n",
    "        return \"this is my pen in data\"\n",
    "    def student_assiment(self):\n",
    "        return \"this is nas in data\"\n",
    "    "
   ]
  },
  {
   "cell_type": "code",
   "execution_count": 26,
   "id": "d24d1b3d-dda0-4020-ae5d-76f585e9d337",
   "metadata": {},
   "outputs": [],
   "source": [
    "dms= data_science()\n"
   ]
  },
  {
   "cell_type": "code",
   "execution_count": 27,
   "id": "3111ee84-4696-4355-94ef-2041b4026626",
   "metadata": {},
   "outputs": [
    {
     "data": {
      "text/plain": [
       "'this is nas in data'"
      ]
     },
     "execution_count": 27,
     "metadata": {},
     "output_type": "execute_result"
    }
   ],
   "source": [
    "dms.student_assiment()"
   ]
  },
  {
   "cell_type": "code",
   "execution_count": 28,
   "id": "e8ce5f70-e5ff-4c94-a60e-18d6fa6ed3c8",
   "metadata": {},
   "outputs": [],
   "source": [
    "si=student_info()"
   ]
  },
  {
   "cell_type": "code",
   "execution_count": 29,
   "id": "65482369-d797-4a78-8eec-cc3d9a745a6a",
   "metadata": {},
   "outputs": [
    {
     "data": {
      "text/plain": [
       "'this is my pen'"
      ]
     },
     "execution_count": 29,
     "metadata": {},
     "output_type": "execute_result"
    }
   ],
   "source": [
    "si.student_detail()"
   ]
  },
  {
   "cell_type": "code",
   "execution_count": null,
   "id": "7618383a-4d9e-43f6-abf2-3df38c8a700b",
   "metadata": {},
   "outputs": [],
   "source": []
  }
 ],
 "metadata": {
  "kernelspec": {
   "display_name": "Python 3 (ipykernel)",
   "language": "python",
   "name": "python3"
  },
  "language_info": {
   "codemirror_mode": {
    "name": "ipython",
    "version": 3
   },
   "file_extension": ".py",
   "mimetype": "text/x-python",
   "name": "python",
   "nbconvert_exporter": "python",
   "pygments_lexer": "ipython3",
   "version": "3.13.5"
  }
 },
 "nbformat": 4,
 "nbformat_minor": 5
}
