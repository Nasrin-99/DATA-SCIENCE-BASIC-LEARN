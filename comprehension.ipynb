{
 "cells": [
  {
   "cell_type": "code",
   "execution_count": 2,
   "id": "babd5075-d282-4dfc-bfa7-5db9d582e24c",
   "metadata": {},
   "outputs": [],
   "source": [
    "l=[1,2,3,4,5]\n",
    "l1=[]\n",
    "for i in l :\n",
    "    l1.append(i**2)"
   ]
  },
  {
   "cell_type": "code",
   "execution_count": 3,
   "id": "4cc911fd-8b3c-4e05-bff9-970afa1eea79",
   "metadata": {},
   "outputs": [
    {
     "data": {
      "text/plain": [
       "[1, 4, 9, 16, 25]"
      ]
     },
     "execution_count": 3,
     "metadata": {},
     "output_type": "execute_result"
    }
   ],
   "source": [
    "l1"
   ]
  },
  {
   "cell_type": "markdown",
   "id": "c22c5a3b-8149-4a0a-bceb-29a7ba483763",
   "metadata": {},
   "source": [
    "comprehension used "
   ]
  },
  {
   "cell_type": "code",
   "execution_count": 4,
   "id": "bc98499f-1daa-47c3-89b4-456ceb4e1522",
   "metadata": {},
   "outputs": [
    {
     "data": {
      "text/plain": [
       "[1, 4, 9, 16, 25]"
      ]
     },
     "execution_count": 4,
     "metadata": {},
     "output_type": "execute_result"
    }
   ],
   "source": [
    "[i**2 for i in l]"
   ]
  },
  {
   "cell_type": "code",
   "execution_count": 5,
   "id": "618d66b4-4c70-4229-bc15-de93d74b7ad0",
   "metadata": {},
   "outputs": [
    {
     "data": {
      "text/plain": [
       "[2, 4]"
      ]
     },
     "execution_count": 5,
     "metadata": {},
     "output_type": "execute_result"
    }
   ],
   "source": [
    "#even number\n",
    "[i for i in l if i%2==0]"
   ]
  },
  {
   "cell_type": "code",
   "execution_count": 6,
   "id": "e676cef7-4856-4ca5-8ca9-d967271b0351",
   "metadata": {},
   "outputs": [],
   "source": [
    "l1=['a','b','c','d','e','f']"
   ]
  },
  {
   "cell_type": "code",
   "execution_count": 7,
   "id": "e0dbf314-b509-42f8-bc76-c7f4fea2476d",
   "metadata": {},
   "outputs": [
    {
     "data": {
      "text/plain": [
       "['A', 'B', 'C', 'D', 'E', 'F']"
      ]
     },
     "execution_count": 7,
     "metadata": {},
     "output_type": "execute_result"
    }
   ],
   "source": [
    "[i.upper() for i in l1]"
   ]
  },
  {
   "cell_type": "code",
   "execution_count": 10,
   "id": "89d740c0-c72b-4552-9ee0-72b033c4f866",
   "metadata": {},
   "outputs": [
    {
     "data": {
      "text/plain": [
       "(1, 4, 9, 16, 25)"
      ]
     },
     "execution_count": 10,
     "metadata": {},
     "output_type": "execute_result"
    }
   ],
   "source": [
    "#tuple comp\n",
    "#(i**2 for i in l)\n",
    "\n",
    "#to find data \n",
    "tuple((i**2 for i in l))"
   ]
  },
  {
   "cell_type": "markdown",
   "id": "7e1416a9-ccf0-4886-99dd-22fef342d573",
   "metadata": {},
   "source": [
    "dict comp "
   ]
  },
  {
   "cell_type": "code",
   "execution_count": 12,
   "id": "6607abf3-72d2-4ba0-a56d-639ff10bcc06",
   "metadata": {},
   "outputs": [],
   "source": [
    "d={ 'k1':1,'k2':2,'k3':3}"
   ]
  },
  {
   "cell_type": "code",
   "execution_count": 13,
   "id": "c05ab0ae-5784-43ff-9414-67fd36d3ea03",
   "metadata": {},
   "outputs": [
    {
     "data": {
      "text/plain": [
       "{'k1': 1, 'k2': 4, 'k3': 9}"
      ]
     },
     "execution_count": 13,
     "metadata": {},
     "output_type": "execute_result"
    }
   ],
   "source": [
    "{k:v**2 for k,v in d.items()}"
   ]
  },
  {
   "cell_type": "code",
   "execution_count": 14,
   "id": "c738e91e-f900-43a9-ac65-5a3f479d431d",
   "metadata": {},
   "outputs": [
    {
     "data": {
      "text/plain": [
       "{'k2': 2, 'k3': 3}"
      ]
     },
     "execution_count": 14,
     "metadata": {},
     "output_type": "execute_result"
    }
   ],
   "source": [
    "{k:v for k,v in d.items() if v>1}"
   ]
  },
  {
   "cell_type": "code",
   "execution_count": null,
   "id": "1f5cb53a-1147-491a-b139-8eb5766e4df1",
   "metadata": {},
   "outputs": [],
   "source": []
  }
 ],
 "metadata": {
  "kernelspec": {
   "display_name": "Python 3 (ipykernel)",
   "language": "python",
   "name": "python3"
  },
  "language_info": {
   "codemirror_mode": {
    "name": "ipython",
    "version": 3
   },
   "file_extension": ".py",
   "mimetype": "text/x-python",
   "name": "python",
   "nbconvert_exporter": "python",
   "pygments_lexer": "ipython3",
   "version": "3.13.5"
  }
 },
 "nbformat": 4,
 "nbformat_minor": 5
}
