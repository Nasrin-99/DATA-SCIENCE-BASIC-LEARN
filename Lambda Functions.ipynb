{
 "cells": [
  {
   "cell_type": "code",
   "execution_count": 1,
   "id": "7193cfea-8b90-453f-a8e1-c7f46c6a857d",
   "metadata": {},
   "outputs": [
    {
     "data": {
      "text/plain": [
       "16"
      ]
     },
     "execution_count": 1,
     "metadata": {},
     "output_type": "execute_result"
    }
   ],
   "source": [
    "# lamda function is a one line function or anonymous function\n",
    "sum = lambda a,b:a+b\n",
    "sum(9,7)"
   ]
  },
  {
   "cell_type": "code",
   "execution_count": 2,
   "id": "409cf152-a214-40e7-bc23-29abfc29736d",
   "metadata": {},
   "outputs": [],
   "source": [
    "# sum as a variable store one line function \n",
    "#there is no name in lambda function just parameter and return valu "
   ]
  },
  {
   "cell_type": "code",
   "execution_count": 3,
   "id": "896ac8ae-6f19-42f2-8570-d04470decb12",
   "metadata": {},
   "outputs": [
    {
     "data": {
      "text/plain": [
       "243"
      ]
     },
     "execution_count": 3,
     "metadata": {},
     "output_type": "execute_result"
    }
   ],
   "source": [
    "a= lambda x,y:x**y\n",
    "a(3,5)"
   ]
  },
  {
   "cell_type": "code",
   "execution_count": 4,
   "id": "4f511556-81e9-4a1a-a10f-4a5e0f281227",
   "metadata": {},
   "outputs": [
    {
     "name": "stdout",
     "output_type": "stream",
     "text": [
      "nasrin\n"
     ]
    }
   ],
   "source": [
    "a= lambda :print(\"nasrin\")\n",
    "a()"
   ]
  },
  {
   "cell_type": "code",
   "execution_count": 5,
   "id": "2963f613-65e1-47e5-8770-efc8a5b48ef2",
   "metadata": {},
   "outputs": [
    {
     "data": {
      "text/plain": [
       "113.0"
      ]
     },
     "execution_count": 5,
     "metadata": {},
     "output_type": "execute_result"
    }
   ],
   "source": [
    "c_to_f= lambda c: (9/5)*c+32\n",
    "c_to_f(45)"
   ]
  },
  {
   "cell_type": "code",
   "execution_count": 7,
   "id": "463f422a-af50-4e84-9bad-36085430b8d2",
   "metadata": {},
   "outputs": [
    {
     "data": {
      "text/plain": [
       "20"
      ]
     },
     "execution_count": 7,
     "metadata": {},
     "output_type": "execute_result"
    }
   ],
   "source": [
    "max_num= lambda x,y: x if x>y else y\n",
    "max_num(3,20)"
   ]
  },
  {
   "cell_type": "code",
   "execution_count": null,
   "id": "28b73394-8aa8-48de-8f1a-2b2fc95ef7c4",
   "metadata": {},
   "outputs": [],
   "source": []
  }
 ],
 "metadata": {
  "kernelspec": {
   "display_name": "Python 3 (ipykernel)",
   "language": "python",
   "name": "python3"
  },
  "language_info": {
   "codemirror_mode": {
    "name": "ipython",
    "version": 3
   },
   "file_extension": ".py",
   "mimetype": "text/x-python",
   "name": "python",
   "nbconvert_exporter": "python",
   "pygments_lexer": "ipython3",
   "version": "3.13.5"
  }
 },
 "nbformat": 4,
 "nbformat_minor": 5
}
